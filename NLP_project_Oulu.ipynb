{
  "nbformat": 4,
  "nbformat_minor": 0,
  "metadata": {
    "colab": {
      "provenance": [],
      "collapsed_sections": [
        "-2-k2FdIUiRQ",
        "S6fkfDECqk4L",
        "W6j9g7GZtOni",
        "joRLvI_Q2SI8",
        "dtyRvogNEac0",
        "LtCSzjhc_nwA",
        "W2HyzGnyGR-a"
      ],
      "toc_visible": true
    },
    "kernelspec": {
      "name": "python3",
      "display_name": "Python 3"
    },
    "language_info": {
      "name": "python"
    }
  },
  "cells": [
    {
      "cell_type": "markdown",
      "source": [
        "#Imports"
      ],
      "metadata": {
        "id": "5YqO2eROQFgO"
      }
    },
    {
      "cell_type": "code",
      "source": [
        "import nltk\n",
        "nltk.download('vader_lexicon')\n",
        "from nltk.sentiment.vader import SentimentIntensityAnalyzer\n",
        "import matplotlib.pyplot as plt\n",
        "!pip install textstat\n",
        "!pip install empath\n",
        "\n",
        "import numpy as np\n",
        "import pandas as pd\n",
        "import textstat\n",
        "from nltk.tokenize import word_tokenize\n",
        "from nltk.corpus import wordnet as wn\n",
        "from wordcloud import WordCloud\n",
        "from nltk.stem.porter import *\n",
        "from nltk.corpus import stopwords\n",
        "from gensim.corpora.dictionary import Dictionary\n",
        "from gensim.models.ldamodel import LdaModel\n",
        "import empath\n",
        "\n",
        "nltk.download('punkt')\n",
        "nltk.download('wordnet')\n",
        "nltk.download('omw-1.4')\n",
        "nltk.download('stopwords')\n",
        "\n",
        "sid = SentimentIntensityAnalyzer()"
      ],
      "metadata": {
        "colab": {
          "base_uri": "https://localhost:8080/"
        },
        "id": "mGldhndwRTeD",
        "outputId": "d368a423-91d1-44ae-8950-d0fcc5a5f160"
      },
      "execution_count": null,
      "outputs": [
        {
          "output_type": "stream",
          "name": "stderr",
          "text": [
            "[nltk_data] Downloading package vader_lexicon to /root/nltk_data...\n"
          ]
        },
        {
          "output_type": "stream",
          "name": "stdout",
          "text": [
            "Looking in indexes: https://pypi.org/simple, https://us-python.pkg.dev/colab-wheels/public/simple/\n",
            "Collecting textstat\n",
            "  Downloading textstat-0.7.3-py3-none-any.whl (105 kB)\n",
            "\u001b[K     |████████████████████████████████| 105 kB 10.9 MB/s \n",
            "\u001b[?25hCollecting pyphen\n",
            "  Downloading pyphen-0.13.0-py3-none-any.whl (2.0 MB)\n",
            "\u001b[K     |████████████████████████████████| 2.0 MB 46.6 MB/s \n",
            "\u001b[?25hInstalling collected packages: pyphen, textstat\n",
            "Successfully installed pyphen-0.13.0 textstat-0.7.3\n",
            "Looking in indexes: https://pypi.org/simple, https://us-python.pkg.dev/colab-wheels/public/simple/\n",
            "Collecting empath\n",
            "  Downloading empath-0.89.tar.gz (57 kB)\n",
            "\u001b[K     |████████████████████████████████| 57 kB 3.7 MB/s \n",
            "\u001b[?25hRequirement already satisfied: requests in /usr/local/lib/python3.7/dist-packages (from empath) (2.23.0)\n",
            "Requirement already satisfied: urllib3!=1.25.0,!=1.25.1,<1.26,>=1.21.1 in /usr/local/lib/python3.7/dist-packages (from requests->empath) (1.24.3)\n",
            "Requirement already satisfied: certifi>=2017.4.17 in /usr/local/lib/python3.7/dist-packages (from requests->empath) (2022.9.24)\n",
            "Requirement already satisfied: idna<3,>=2.5 in /usr/local/lib/python3.7/dist-packages (from requests->empath) (2.10)\n",
            "Requirement already satisfied: chardet<4,>=3.0.2 in /usr/local/lib/python3.7/dist-packages (from requests->empath) (3.0.4)\n",
            "Building wheels for collected packages: empath\n",
            "  Building wheel for empath (setup.py) ... \u001b[?25l\u001b[?25hdone\n",
            "  Created wheel for empath: filename=empath-0.89-py3-none-any.whl size=57821 sha256=3085bfab638c19c83e4410a2786440a4e4e0918aea509cbcbdad53ae325f9d1f\n",
            "  Stored in directory: /root/.cache/pip/wheels/2b/78/a8/37d4505eeae79807f4b5565a193f7cfcee892137ad37591029\n",
            "Successfully built empath\n",
            "Installing collected packages: empath\n",
            "Successfully installed empath-0.89\n"
          ]
        },
        {
          "output_type": "stream",
          "name": "stderr",
          "text": [
            "[nltk_data] Downloading package punkt to /root/nltk_data...\n",
            "[nltk_data]   Unzipping tokenizers/punkt.zip.\n",
            "[nltk_data] Downloading package wordnet to /root/nltk_data...\n",
            "[nltk_data] Downloading package omw-1.4 to /root/nltk_data...\n",
            "[nltk_data] Downloading package stopwords to /root/nltk_data...\n",
            "[nltk_data]   Unzipping corpora/stopwords.zip.\n"
          ]
        }
      ]
    },
    {
      "cell_type": "code",
      "source": [
        "sid.polarity_scores(\"I love him so much\") #Sentiment analysis"
      ],
      "metadata": {
        "colab": {
          "base_uri": "https://localhost:8080/"
        },
        "id": "NBilLNruUA1Q",
        "outputId": "f31aceb7-f009-4854-ce31-18399662f3df"
      },
      "execution_count": null,
      "outputs": [
        {
          "output_type": "execute_result",
          "data": {
            "text/plain": [
              "{'neg': 0.0, 'neu': 0.488, 'pos': 0.512, 'compound': 0.6369}"
            ]
          },
          "metadata": {},
          "execution_count": 9
        }
      ]
    },
    {
      "cell_type": "markdown",
      "source": [
        "#Task 1 : input reviews and output scores in a database\n"
      ],
      "metadata": {
        "id": "Nb0u1fEQWY_V"
      }
    },
    {
      "cell_type": "markdown",
      "source": [
        ">Import dataset \n",
        "\n"
      ],
      "metadata": {
        "id": "TCtWpTGpVEjv"
      }
    },
    {
      "cell_type": "code",
      "source": [
        "def aggregate_review(neg_review : str,pos_review :str) -> str:\n",
        "  if neg_review == \"No Negative\":\n",
        "    neg_review = \"\"\n",
        "  if pos_review == \"No Positive\":\n",
        "    pos_review = \"\"\n",
        "  agg_review = f\"{neg_review} {pos_review}\"\n",
        "  return agg_review\n",
        "\n",
        "sid = SentimentIntensityAnalyzer()\n",
        "\n",
        "def vader_score(review: str) -> str:\n",
        "  polarity = sid.polarity_scores(review) #Sentiment analysis\n",
        "  neg,neu,pos,compound = polarity['neg'],polarity['neu'],polarity['pos'],polarity['compound']\n",
        "  return neg,neu,pos,compound"
      ],
      "metadata": {
        "id": "sJFta0oEbCvW"
      },
      "execution_count": null,
      "outputs": []
    },
    {
      "cell_type": "code",
      "source": [
        "!unzip \"/content/archive.zip\""
      ],
      "metadata": {
        "id": "0Np9eWZvZc4D",
        "colab": {
          "base_uri": "https://localhost:8080/"
        },
        "outputId": "97e509f3-7188-4daf-a799-812c0b85ad13"
      },
      "execution_count": null,
      "outputs": [
        {
          "output_type": "stream",
          "name": "stdout",
          "text": [
            "Archive:  /content/archive.zip\n",
            "  inflating: Hotel_Reviews.csv       \n"
          ]
        }
      ]
    },
    {
      "cell_type": "code",
      "source": [
        "dataset_path = \"/content/Hotel_Reviews.csv\""
      ],
      "metadata": {
        "id": "WevJ4QmPWSLu"
      },
      "execution_count": null,
      "outputs": []
    },
    {
      "cell_type": "code",
      "source": [
        "reviews = pd.read_csv(dataset_path, sep=',')\n",
        "reviews.head(3)"
      ],
      "metadata": {
        "colab": {
          "base_uri": "https://localhost:8080/",
          "height": 485
        },
        "id": "ybChEuH0UqWQ",
        "outputId": "1ecd01e8-e75b-4527-ce45-7fa12df8c517"
      },
      "execution_count": null,
      "outputs": [
        {
          "output_type": "execute_result",
          "data": {
            "text/plain": [
              "                                       Hotel_Address  \\\n",
              "0   s Gravesandestraat 55 Oost 1092 AA Amsterdam ...   \n",
              "1   s Gravesandestraat 55 Oost 1092 AA Amsterdam ...   \n",
              "2   s Gravesandestraat 55 Oost 1092 AA Amsterdam ...   \n",
              "\n",
              "   Additional_Number_of_Scoring Review_Date  Average_Score   Hotel_Name  \\\n",
              "0                           194    8/3/2017            7.7  Hotel Arena   \n",
              "1                           194    8/3/2017            7.7  Hotel Arena   \n",
              "2                           194   7/31/2017            7.7  Hotel Arena   \n",
              "\n",
              "  Reviewer_Nationality                                    Negative_Review  \\\n",
              "0              Russia    I am so angry that i made this post available...   \n",
              "1             Ireland                                         No Negative   \n",
              "2           Australia    Rooms are nice but for elderly a bit difficul...   \n",
              "\n",
              "   Review_Total_Negative_Word_Counts  Total_Number_of_Reviews  \\\n",
              "0                                397                     1403   \n",
              "1                                  0                     1403   \n",
              "2                                 42                     1403   \n",
              "\n",
              "                                     Positive_Review  \\\n",
              "0   Only the park outside of the hotel was beauti...   \n",
              "1   No real complaints the hotel was great great ...   \n",
              "2   Location was good and staff were ok It is cut...   \n",
              "\n",
              "   Review_Total_Positive_Word_Counts  \\\n",
              "0                                 11   \n",
              "1                                105   \n",
              "2                                 21   \n",
              "\n",
              "   Total_Number_of_Reviews_Reviewer_Has_Given  Reviewer_Score  \\\n",
              "0                                           7             2.9   \n",
              "1                                           7             7.5   \n",
              "2                                           9             7.1   \n",
              "\n",
              "                                                Tags days_since_review  \\\n",
              "0  [' Leisure trip ', ' Couple ', ' Duplex Double...            0 days   \n",
              "1  [' Leisure trip ', ' Couple ', ' Duplex Double...            0 days   \n",
              "2  [' Leisure trip ', ' Family with young childre...            3 days   \n",
              "\n",
              "         lat       lng  \n",
              "0  52.360576  4.915968  \n",
              "1  52.360576  4.915968  \n",
              "2  52.360576  4.915968  "
            ],
            "text/html": [
              "\n",
              "  <div id=\"df-b44fbc82-e187-406b-9cb0-f0e835ed3376\">\n",
              "    <div class=\"colab-df-container\">\n",
              "      <div>\n",
              "<style scoped>\n",
              "    .dataframe tbody tr th:only-of-type {\n",
              "        vertical-align: middle;\n",
              "    }\n",
              "\n",
              "    .dataframe tbody tr th {\n",
              "        vertical-align: top;\n",
              "    }\n",
              "\n",
              "    .dataframe thead th {\n",
              "        text-align: right;\n",
              "    }\n",
              "</style>\n",
              "<table border=\"1\" class=\"dataframe\">\n",
              "  <thead>\n",
              "    <tr style=\"text-align: right;\">\n",
              "      <th></th>\n",
              "      <th>Hotel_Address</th>\n",
              "      <th>Additional_Number_of_Scoring</th>\n",
              "      <th>Review_Date</th>\n",
              "      <th>Average_Score</th>\n",
              "      <th>Hotel_Name</th>\n",
              "      <th>Reviewer_Nationality</th>\n",
              "      <th>Negative_Review</th>\n",
              "      <th>Review_Total_Negative_Word_Counts</th>\n",
              "      <th>Total_Number_of_Reviews</th>\n",
              "      <th>Positive_Review</th>\n",
              "      <th>Review_Total_Positive_Word_Counts</th>\n",
              "      <th>Total_Number_of_Reviews_Reviewer_Has_Given</th>\n",
              "      <th>Reviewer_Score</th>\n",
              "      <th>Tags</th>\n",
              "      <th>days_since_review</th>\n",
              "      <th>lat</th>\n",
              "      <th>lng</th>\n",
              "    </tr>\n",
              "  </thead>\n",
              "  <tbody>\n",
              "    <tr>\n",
              "      <th>0</th>\n",
              "      <td>s Gravesandestraat 55 Oost 1092 AA Amsterdam ...</td>\n",
              "      <td>194</td>\n",
              "      <td>8/3/2017</td>\n",
              "      <td>7.7</td>\n",
              "      <td>Hotel Arena</td>\n",
              "      <td>Russia</td>\n",
              "      <td>I am so angry that i made this post available...</td>\n",
              "      <td>397</td>\n",
              "      <td>1403</td>\n",
              "      <td>Only the park outside of the hotel was beauti...</td>\n",
              "      <td>11</td>\n",
              "      <td>7</td>\n",
              "      <td>2.9</td>\n",
              "      <td>[' Leisure trip ', ' Couple ', ' Duplex Double...</td>\n",
              "      <td>0 days</td>\n",
              "      <td>52.360576</td>\n",
              "      <td>4.915968</td>\n",
              "    </tr>\n",
              "    <tr>\n",
              "      <th>1</th>\n",
              "      <td>s Gravesandestraat 55 Oost 1092 AA Amsterdam ...</td>\n",
              "      <td>194</td>\n",
              "      <td>8/3/2017</td>\n",
              "      <td>7.7</td>\n",
              "      <td>Hotel Arena</td>\n",
              "      <td>Ireland</td>\n",
              "      <td>No Negative</td>\n",
              "      <td>0</td>\n",
              "      <td>1403</td>\n",
              "      <td>No real complaints the hotel was great great ...</td>\n",
              "      <td>105</td>\n",
              "      <td>7</td>\n",
              "      <td>7.5</td>\n",
              "      <td>[' Leisure trip ', ' Couple ', ' Duplex Double...</td>\n",
              "      <td>0 days</td>\n",
              "      <td>52.360576</td>\n",
              "      <td>4.915968</td>\n",
              "    </tr>\n",
              "    <tr>\n",
              "      <th>2</th>\n",
              "      <td>s Gravesandestraat 55 Oost 1092 AA Amsterdam ...</td>\n",
              "      <td>194</td>\n",
              "      <td>7/31/2017</td>\n",
              "      <td>7.7</td>\n",
              "      <td>Hotel Arena</td>\n",
              "      <td>Australia</td>\n",
              "      <td>Rooms are nice but for elderly a bit difficul...</td>\n",
              "      <td>42</td>\n",
              "      <td>1403</td>\n",
              "      <td>Location was good and staff were ok It is cut...</td>\n",
              "      <td>21</td>\n",
              "      <td>9</td>\n",
              "      <td>7.1</td>\n",
              "      <td>[' Leisure trip ', ' Family with young childre...</td>\n",
              "      <td>3 days</td>\n",
              "      <td>52.360576</td>\n",
              "      <td>4.915968</td>\n",
              "    </tr>\n",
              "  </tbody>\n",
              "</table>\n",
              "</div>\n",
              "      <button class=\"colab-df-convert\" onclick=\"convertToInteractive('df-b44fbc82-e187-406b-9cb0-f0e835ed3376')\"\n",
              "              title=\"Convert this dataframe to an interactive table.\"\n",
              "              style=\"display:none;\">\n",
              "        \n",
              "  <svg xmlns=\"http://www.w3.org/2000/svg\" height=\"24px\"viewBox=\"0 0 24 24\"\n",
              "       width=\"24px\">\n",
              "    <path d=\"M0 0h24v24H0V0z\" fill=\"none\"/>\n",
              "    <path d=\"M18.56 5.44l.94 2.06.94-2.06 2.06-.94-2.06-.94-.94-2.06-.94 2.06-2.06.94zm-11 1L8.5 8.5l.94-2.06 2.06-.94-2.06-.94L8.5 2.5l-.94 2.06-2.06.94zm10 10l.94 2.06.94-2.06 2.06-.94-2.06-.94-.94-2.06-.94 2.06-2.06.94z\"/><path d=\"M17.41 7.96l-1.37-1.37c-.4-.4-.92-.59-1.43-.59-.52 0-1.04.2-1.43.59L10.3 9.45l-7.72 7.72c-.78.78-.78 2.05 0 2.83L4 21.41c.39.39.9.59 1.41.59.51 0 1.02-.2 1.41-.59l7.78-7.78 2.81-2.81c.8-.78.8-2.07 0-2.86zM5.41 20L4 18.59l7.72-7.72 1.47 1.35L5.41 20z\"/>\n",
              "  </svg>\n",
              "      </button>\n",
              "      \n",
              "  <style>\n",
              "    .colab-df-container {\n",
              "      display:flex;\n",
              "      flex-wrap:wrap;\n",
              "      gap: 12px;\n",
              "    }\n",
              "\n",
              "    .colab-df-convert {\n",
              "      background-color: #E8F0FE;\n",
              "      border: none;\n",
              "      border-radius: 50%;\n",
              "      cursor: pointer;\n",
              "      display: none;\n",
              "      fill: #1967D2;\n",
              "      height: 32px;\n",
              "      padding: 0 0 0 0;\n",
              "      width: 32px;\n",
              "    }\n",
              "\n",
              "    .colab-df-convert:hover {\n",
              "      background-color: #E2EBFA;\n",
              "      box-shadow: 0px 1px 2px rgba(60, 64, 67, 0.3), 0px 1px 3px 1px rgba(60, 64, 67, 0.15);\n",
              "      fill: #174EA6;\n",
              "    }\n",
              "\n",
              "    [theme=dark] .colab-df-convert {\n",
              "      background-color: #3B4455;\n",
              "      fill: #D2E3FC;\n",
              "    }\n",
              "\n",
              "    [theme=dark] .colab-df-convert:hover {\n",
              "      background-color: #434B5C;\n",
              "      box-shadow: 0px 1px 3px 1px rgba(0, 0, 0, 0.15);\n",
              "      filter: drop-shadow(0px 1px 2px rgba(0, 0, 0, 0.3));\n",
              "      fill: #FFFFFF;\n",
              "    }\n",
              "  </style>\n",
              "\n",
              "      <script>\n",
              "        const buttonEl =\n",
              "          document.querySelector('#df-b44fbc82-e187-406b-9cb0-f0e835ed3376 button.colab-df-convert');\n",
              "        buttonEl.style.display =\n",
              "          google.colab.kernel.accessAllowed ? 'block' : 'none';\n",
              "\n",
              "        async function convertToInteractive(key) {\n",
              "          const element = document.querySelector('#df-b44fbc82-e187-406b-9cb0-f0e835ed3376');\n",
              "          const dataTable =\n",
              "            await google.colab.kernel.invokeFunction('convertToInteractive',\n",
              "                                                     [key], {});\n",
              "          if (!dataTable) return;\n",
              "\n",
              "          const docLinkHtml = 'Like what you see? Visit the ' +\n",
              "            '<a target=\"_blank\" href=https://colab.research.google.com/notebooks/data_table.ipynb>data table notebook</a>'\n",
              "            + ' to learn more about interactive tables.';\n",
              "          element.innerHTML = '';\n",
              "          dataTable['output_type'] = 'display_data';\n",
              "          await google.colab.output.renderOutput(dataTable, element);\n",
              "          const docLink = document.createElement('div');\n",
              "          docLink.innerHTML = docLinkHtml;\n",
              "          element.appendChild(docLink);\n",
              "        }\n",
              "      </script>\n",
              "    </div>\n",
              "  </div>\n",
              "  "
            ]
          },
          "metadata": {},
          "execution_count": 9
        }
      ]
    },
    {
      "cell_type": "code",
      "source": [
        "reviews.axes"
      ],
      "metadata": {
        "colab": {
          "base_uri": "https://localhost:8080/"
        },
        "id": "ju6W9MXsaGOa",
        "outputId": "7eac3ca8-1538-45eb-b4d0-c5d259bb8571"
      },
      "execution_count": null,
      "outputs": [
        {
          "output_type": "execute_result",
          "data": {
            "text/plain": [
              "[RangeIndex(start=0, stop=515738, step=1),\n",
              " Index(['Hotel_Address', 'Additional_Number_of_Scoring', 'Review_Date',\n",
              "        'Average_Score', 'Hotel_Name', 'Reviewer_Nationality',\n",
              "        'Negative_Review', 'Review_Total_Negative_Word_Counts',\n",
              "        'Total_Number_of_Reviews', 'Positive_Review',\n",
              "        'Review_Total_Positive_Word_Counts',\n",
              "        'Total_Number_of_Reviews_Reviewer_Has_Given', 'Reviewer_Score', 'Tags',\n",
              "        'days_since_review', 'lat', 'lng'],\n",
              "       dtype='object')]"
            ]
          },
          "metadata": {},
          "execution_count": 55
        }
      ]
    },
    {
      "cell_type": "code",
      "source": [
        "reviews_vader = reviews.drop(columns = ['Additional_Number_of_Scoring', 'Review_Date',\n",
        "        'Reviewer_Nationality','Average_Score',\n",
        "        'Review_Total_Negative_Word_Counts',\n",
        "        'Total_Number_of_Reviews',\n",
        "        'Review_Total_Positive_Word_Counts',\n",
        "        'Total_Number_of_Reviews_Reviewer_Has_Given', 'Tags',\n",
        "        'days_since_review', 'lat', 'lng'])"
      ],
      "metadata": {
        "id": "oXzYrU39XdU5"
      },
      "execution_count": null,
      "outputs": []
    },
    {
      "cell_type": "code",
      "source": [
        "reviews_vader.head(3)"
      ],
      "metadata": {
        "colab": {
          "base_uri": "https://localhost:8080/",
          "height": 143
        },
        "id": "ZCYYKPjsaywk",
        "outputId": "84df9803-46e4-450a-9912-d6e426ca4109"
      },
      "execution_count": null,
      "outputs": [
        {
          "output_type": "execute_result",
          "data": {
            "text/plain": [
              "                                       Hotel_Address   Hotel_Name  \\\n",
              "0   s Gravesandestraat 55 Oost 1092 AA Amsterdam ...  Hotel Arena   \n",
              "1   s Gravesandestraat 55 Oost 1092 AA Amsterdam ...  Hotel Arena   \n",
              "2   s Gravesandestraat 55 Oost 1092 AA Amsterdam ...  Hotel Arena   \n",
              "\n",
              "                                     Negative_Review  \\\n",
              "0   I am so angry that i made this post available...   \n",
              "1                                        No Negative   \n",
              "2   Rooms are nice but for elderly a bit difficul...   \n",
              "\n",
              "                                     Positive_Review  Reviewer_Score  \n",
              "0   Only the park outside of the hotel was beauti...             2.9  \n",
              "1   No real complaints the hotel was great great ...             7.5  \n",
              "2   Location was good and staff were ok It is cut...             7.1  "
            ],
            "text/html": [
              "\n",
              "  <div id=\"df-7b084860-b878-4cab-8d24-9cd48e62b6cd\">\n",
              "    <div class=\"colab-df-container\">\n",
              "      <div>\n",
              "<style scoped>\n",
              "    .dataframe tbody tr th:only-of-type {\n",
              "        vertical-align: middle;\n",
              "    }\n",
              "\n",
              "    .dataframe tbody tr th {\n",
              "        vertical-align: top;\n",
              "    }\n",
              "\n",
              "    .dataframe thead th {\n",
              "        text-align: right;\n",
              "    }\n",
              "</style>\n",
              "<table border=\"1\" class=\"dataframe\">\n",
              "  <thead>\n",
              "    <tr style=\"text-align: right;\">\n",
              "      <th></th>\n",
              "      <th>Hotel_Address</th>\n",
              "      <th>Hotel_Name</th>\n",
              "      <th>Negative_Review</th>\n",
              "      <th>Positive_Review</th>\n",
              "      <th>Reviewer_Score</th>\n",
              "    </tr>\n",
              "  </thead>\n",
              "  <tbody>\n",
              "    <tr>\n",
              "      <th>0</th>\n",
              "      <td>s Gravesandestraat 55 Oost 1092 AA Amsterdam ...</td>\n",
              "      <td>Hotel Arena</td>\n",
              "      <td>I am so angry that i made this post available...</td>\n",
              "      <td>Only the park outside of the hotel was beauti...</td>\n",
              "      <td>2.9</td>\n",
              "    </tr>\n",
              "    <tr>\n",
              "      <th>1</th>\n",
              "      <td>s Gravesandestraat 55 Oost 1092 AA Amsterdam ...</td>\n",
              "      <td>Hotel Arena</td>\n",
              "      <td>No Negative</td>\n",
              "      <td>No real complaints the hotel was great great ...</td>\n",
              "      <td>7.5</td>\n",
              "    </tr>\n",
              "    <tr>\n",
              "      <th>2</th>\n",
              "      <td>s Gravesandestraat 55 Oost 1092 AA Amsterdam ...</td>\n",
              "      <td>Hotel Arena</td>\n",
              "      <td>Rooms are nice but for elderly a bit difficul...</td>\n",
              "      <td>Location was good and staff were ok It is cut...</td>\n",
              "      <td>7.1</td>\n",
              "    </tr>\n",
              "  </tbody>\n",
              "</table>\n",
              "</div>\n",
              "      <button class=\"colab-df-convert\" onclick=\"convertToInteractive('df-7b084860-b878-4cab-8d24-9cd48e62b6cd')\"\n",
              "              title=\"Convert this dataframe to an interactive table.\"\n",
              "              style=\"display:none;\">\n",
              "        \n",
              "  <svg xmlns=\"http://www.w3.org/2000/svg\" height=\"24px\"viewBox=\"0 0 24 24\"\n",
              "       width=\"24px\">\n",
              "    <path d=\"M0 0h24v24H0V0z\" fill=\"none\"/>\n",
              "    <path d=\"M18.56 5.44l.94 2.06.94-2.06 2.06-.94-2.06-.94-.94-2.06-.94 2.06-2.06.94zm-11 1L8.5 8.5l.94-2.06 2.06-.94-2.06-.94L8.5 2.5l-.94 2.06-2.06.94zm10 10l.94 2.06.94-2.06 2.06-.94-2.06-.94-.94-2.06-.94 2.06-2.06.94z\"/><path d=\"M17.41 7.96l-1.37-1.37c-.4-.4-.92-.59-1.43-.59-.52 0-1.04.2-1.43.59L10.3 9.45l-7.72 7.72c-.78.78-.78 2.05 0 2.83L4 21.41c.39.39.9.59 1.41.59.51 0 1.02-.2 1.41-.59l7.78-7.78 2.81-2.81c.8-.78.8-2.07 0-2.86zM5.41 20L4 18.59l7.72-7.72 1.47 1.35L5.41 20z\"/>\n",
              "  </svg>\n",
              "      </button>\n",
              "      \n",
              "  <style>\n",
              "    .colab-df-container {\n",
              "      display:flex;\n",
              "      flex-wrap:wrap;\n",
              "      gap: 12px;\n",
              "    }\n",
              "\n",
              "    .colab-df-convert {\n",
              "      background-color: #E8F0FE;\n",
              "      border: none;\n",
              "      border-radius: 50%;\n",
              "      cursor: pointer;\n",
              "      display: none;\n",
              "      fill: #1967D2;\n",
              "      height: 32px;\n",
              "      padding: 0 0 0 0;\n",
              "      width: 32px;\n",
              "    }\n",
              "\n",
              "    .colab-df-convert:hover {\n",
              "      background-color: #E2EBFA;\n",
              "      box-shadow: 0px 1px 2px rgba(60, 64, 67, 0.3), 0px 1px 3px 1px rgba(60, 64, 67, 0.15);\n",
              "      fill: #174EA6;\n",
              "    }\n",
              "\n",
              "    [theme=dark] .colab-df-convert {\n",
              "      background-color: #3B4455;\n",
              "      fill: #D2E3FC;\n",
              "    }\n",
              "\n",
              "    [theme=dark] .colab-df-convert:hover {\n",
              "      background-color: #434B5C;\n",
              "      box-shadow: 0px 1px 3px 1px rgba(0, 0, 0, 0.15);\n",
              "      filter: drop-shadow(0px 1px 2px rgba(0, 0, 0, 0.3));\n",
              "      fill: #FFFFFF;\n",
              "    }\n",
              "  </style>\n",
              "\n",
              "      <script>\n",
              "        const buttonEl =\n",
              "          document.querySelector('#df-7b084860-b878-4cab-8d24-9cd48e62b6cd button.colab-df-convert');\n",
              "        buttonEl.style.display =\n",
              "          google.colab.kernel.accessAllowed ? 'block' : 'none';\n",
              "\n",
              "        async function convertToInteractive(key) {\n",
              "          const element = document.querySelector('#df-7b084860-b878-4cab-8d24-9cd48e62b6cd');\n",
              "          const dataTable =\n",
              "            await google.colab.kernel.invokeFunction('convertToInteractive',\n",
              "                                                     [key], {});\n",
              "          if (!dataTable) return;\n",
              "\n",
              "          const docLinkHtml = 'Like what you see? Visit the ' +\n",
              "            '<a target=\"_blank\" href=https://colab.research.google.com/notebooks/data_table.ipynb>data table notebook</a>'\n",
              "            + ' to learn more about interactive tables.';\n",
              "          element.innerHTML = '';\n",
              "          dataTable['output_type'] = 'display_data';\n",
              "          await google.colab.output.renderOutput(dataTable, element);\n",
              "          const docLink = document.createElement('div');\n",
              "          docLink.innerHTML = docLinkHtml;\n",
              "          element.appendChild(docLink);\n",
              "        }\n",
              "      </script>\n",
              "    </div>\n",
              "  </div>\n",
              "  "
            ]
          },
          "metadata": {},
          "execution_count": 11
        }
      ]
    },
    {
      "cell_type": "code",
      "source": [
        "reviews_vader['Total_Review'] = reviews_vader.apply(lambda x : aggregate_review(x['Negative_Review'],x['Positive_Review']),axis =1)"
      ],
      "metadata": {
        "id": "6QOlVo1Pe3fn"
      },
      "execution_count": null,
      "outputs": []
    },
    {
      "cell_type": "code",
      "source": [
        "reviews_vader['Negative_Score']= reviews_vader['Total_Review'].map(lambda x: (vader_score(x)[0]))\n",
        "reviews_vader['Neutral_Score']= reviews_vader['Total_Review'].map(lambda x: (vader_score(x)[1]))\n",
        "reviews_vader['Positive_Score']=reviews_vader['Total_Review'].map(lambda x: (vader_score(x)[2]))\n",
        "reviews_vader['Compound_Score'] =reviews_vader['Total_Review'].map(lambda x: (vader_score(x)[3]))"
      ],
      "metadata": {
        "id": "gvtgFxSxeI7D"
      },
      "execution_count": null,
      "outputs": []
    },
    {
      "cell_type": "code",
      "source": [
        "reviews_vader.head(3)"
      ],
      "metadata": {
        "colab": {
          "base_uri": "https://localhost:8080/",
          "height": 240
        },
        "id": "oCp7xlS3jnCs",
        "outputId": "71c5ef63-9287-43a3-d048-4814cc317a3d"
      },
      "execution_count": null,
      "outputs": [
        {
          "output_type": "execute_result",
          "data": {
            "text/plain": [
              "                                       Hotel_Address   Hotel_Name  \\\n",
              "0   s Gravesandestraat 55 Oost 1092 AA Amsterdam ...  Hotel Arena   \n",
              "1   s Gravesandestraat 55 Oost 1092 AA Amsterdam ...  Hotel Arena   \n",
              "2   s Gravesandestraat 55 Oost 1092 AA Amsterdam ...  Hotel Arena   \n",
              "\n",
              "                                     Negative_Review  \\\n",
              "0   I am so angry that i made this post available...   \n",
              "1                                        No Negative   \n",
              "2   Rooms are nice but for elderly a bit difficul...   \n",
              "\n",
              "                                     Positive_Review  Reviewer_Score  \\\n",
              "0   Only the park outside of the hotel was beauti...             2.9   \n",
              "1   No real complaints the hotel was great great ...             7.5   \n",
              "2   Location was good and staff were ok It is cut...             7.1   \n",
              "\n",
              "                                        Total_Review  Negative_Score  \\\n",
              "0   I am so angry that i made this post available...           0.083   \n",
              "1    No real complaints the hotel was great great...           0.058   \n",
              "2   Rooms are nice but for elderly a bit difficul...           0.111   \n",
              "\n",
              "   Neutral_Score  Positive_Score  Compound_Score  \n",
              "0          0.859           0.058         -0.8589  \n",
              "1          0.757           0.186          0.9494  \n",
              "2          0.671           0.218          0.8402  "
            ],
            "text/html": [
              "\n",
              "  <div id=\"df-5d9c2fdc-6a2d-4b88-83eb-43597b8f4556\">\n",
              "    <div class=\"colab-df-container\">\n",
              "      <div>\n",
              "<style scoped>\n",
              "    .dataframe tbody tr th:only-of-type {\n",
              "        vertical-align: middle;\n",
              "    }\n",
              "\n",
              "    .dataframe tbody tr th {\n",
              "        vertical-align: top;\n",
              "    }\n",
              "\n",
              "    .dataframe thead th {\n",
              "        text-align: right;\n",
              "    }\n",
              "</style>\n",
              "<table border=\"1\" class=\"dataframe\">\n",
              "  <thead>\n",
              "    <tr style=\"text-align: right;\">\n",
              "      <th></th>\n",
              "      <th>Hotel_Address</th>\n",
              "      <th>Hotel_Name</th>\n",
              "      <th>Negative_Review</th>\n",
              "      <th>Positive_Review</th>\n",
              "      <th>Reviewer_Score</th>\n",
              "      <th>Total_Review</th>\n",
              "      <th>Negative_Score</th>\n",
              "      <th>Neutral_Score</th>\n",
              "      <th>Positive_Score</th>\n",
              "      <th>Compound_Score</th>\n",
              "    </tr>\n",
              "  </thead>\n",
              "  <tbody>\n",
              "    <tr>\n",
              "      <th>0</th>\n",
              "      <td>s Gravesandestraat 55 Oost 1092 AA Amsterdam ...</td>\n",
              "      <td>Hotel Arena</td>\n",
              "      <td>I am so angry that i made this post available...</td>\n",
              "      <td>Only the park outside of the hotel was beauti...</td>\n",
              "      <td>2.9</td>\n",
              "      <td>I am so angry that i made this post available...</td>\n",
              "      <td>0.083</td>\n",
              "      <td>0.859</td>\n",
              "      <td>0.058</td>\n",
              "      <td>-0.8589</td>\n",
              "    </tr>\n",
              "    <tr>\n",
              "      <th>1</th>\n",
              "      <td>s Gravesandestraat 55 Oost 1092 AA Amsterdam ...</td>\n",
              "      <td>Hotel Arena</td>\n",
              "      <td>No Negative</td>\n",
              "      <td>No real complaints the hotel was great great ...</td>\n",
              "      <td>7.5</td>\n",
              "      <td>No real complaints the hotel was great great...</td>\n",
              "      <td>0.058</td>\n",
              "      <td>0.757</td>\n",
              "      <td>0.186</td>\n",
              "      <td>0.9494</td>\n",
              "    </tr>\n",
              "    <tr>\n",
              "      <th>2</th>\n",
              "      <td>s Gravesandestraat 55 Oost 1092 AA Amsterdam ...</td>\n",
              "      <td>Hotel Arena</td>\n",
              "      <td>Rooms are nice but for elderly a bit difficul...</td>\n",
              "      <td>Location was good and staff were ok It is cut...</td>\n",
              "      <td>7.1</td>\n",
              "      <td>Rooms are nice but for elderly a bit difficul...</td>\n",
              "      <td>0.111</td>\n",
              "      <td>0.671</td>\n",
              "      <td>0.218</td>\n",
              "      <td>0.8402</td>\n",
              "    </tr>\n",
              "  </tbody>\n",
              "</table>\n",
              "</div>\n",
              "      <button class=\"colab-df-convert\" onclick=\"convertToInteractive('df-5d9c2fdc-6a2d-4b88-83eb-43597b8f4556')\"\n",
              "              title=\"Convert this dataframe to an interactive table.\"\n",
              "              style=\"display:none;\">\n",
              "        \n",
              "  <svg xmlns=\"http://www.w3.org/2000/svg\" height=\"24px\"viewBox=\"0 0 24 24\"\n",
              "       width=\"24px\">\n",
              "    <path d=\"M0 0h24v24H0V0z\" fill=\"none\"/>\n",
              "    <path d=\"M18.56 5.44l.94 2.06.94-2.06 2.06-.94-2.06-.94-.94-2.06-.94 2.06-2.06.94zm-11 1L8.5 8.5l.94-2.06 2.06-.94-2.06-.94L8.5 2.5l-.94 2.06-2.06.94zm10 10l.94 2.06.94-2.06 2.06-.94-2.06-.94-.94-2.06-.94 2.06-2.06.94z\"/><path d=\"M17.41 7.96l-1.37-1.37c-.4-.4-.92-.59-1.43-.59-.52 0-1.04.2-1.43.59L10.3 9.45l-7.72 7.72c-.78.78-.78 2.05 0 2.83L4 21.41c.39.39.9.59 1.41.59.51 0 1.02-.2 1.41-.59l7.78-7.78 2.81-2.81c.8-.78.8-2.07 0-2.86zM5.41 20L4 18.59l7.72-7.72 1.47 1.35L5.41 20z\"/>\n",
              "  </svg>\n",
              "      </button>\n",
              "      \n",
              "  <style>\n",
              "    .colab-df-container {\n",
              "      display:flex;\n",
              "      flex-wrap:wrap;\n",
              "      gap: 12px;\n",
              "    }\n",
              "\n",
              "    .colab-df-convert {\n",
              "      background-color: #E8F0FE;\n",
              "      border: none;\n",
              "      border-radius: 50%;\n",
              "      cursor: pointer;\n",
              "      display: none;\n",
              "      fill: #1967D2;\n",
              "      height: 32px;\n",
              "      padding: 0 0 0 0;\n",
              "      width: 32px;\n",
              "    }\n",
              "\n",
              "    .colab-df-convert:hover {\n",
              "      background-color: #E2EBFA;\n",
              "      box-shadow: 0px 1px 2px rgba(60, 64, 67, 0.3), 0px 1px 3px 1px rgba(60, 64, 67, 0.15);\n",
              "      fill: #174EA6;\n",
              "    }\n",
              "\n",
              "    [theme=dark] .colab-df-convert {\n",
              "      background-color: #3B4455;\n",
              "      fill: #D2E3FC;\n",
              "    }\n",
              "\n",
              "    [theme=dark] .colab-df-convert:hover {\n",
              "      background-color: #434B5C;\n",
              "      box-shadow: 0px 1px 3px 1px rgba(0, 0, 0, 0.15);\n",
              "      filter: drop-shadow(0px 1px 2px rgba(0, 0, 0, 0.3));\n",
              "      fill: #FFFFFF;\n",
              "    }\n",
              "  </style>\n",
              "\n",
              "      <script>\n",
              "        const buttonEl =\n",
              "          document.querySelector('#df-5d9c2fdc-6a2d-4b88-83eb-43597b8f4556 button.colab-df-convert');\n",
              "        buttonEl.style.display =\n",
              "          google.colab.kernel.accessAllowed ? 'block' : 'none';\n",
              "\n",
              "        async function convertToInteractive(key) {\n",
              "          const element = document.querySelector('#df-5d9c2fdc-6a2d-4b88-83eb-43597b8f4556');\n",
              "          const dataTable =\n",
              "            await google.colab.kernel.invokeFunction('convertToInteractive',\n",
              "                                                     [key], {});\n",
              "          if (!dataTable) return;\n",
              "\n",
              "          const docLinkHtml = 'Like what you see? Visit the ' +\n",
              "            '<a target=\"_blank\" href=https://colab.research.google.com/notebooks/data_table.ipynb>data table notebook</a>'\n",
              "            + ' to learn more about interactive tables.';\n",
              "          element.innerHTML = '';\n",
              "          dataTable['output_type'] = 'display_data';\n",
              "          await google.colab.output.renderOutput(dataTable, element);\n",
              "          const docLink = document.createElement('div');\n",
              "          docLink.innerHTML = docLinkHtml;\n",
              "          element.appendChild(docLink);\n",
              "        }\n",
              "      </script>\n",
              "    </div>\n",
              "  </div>\n",
              "  "
            ]
          },
          "metadata": {},
          "execution_count": 14
        }
      ]
    },
    {
      "cell_type": "markdown",
      "source": [
        "#Task 2 : Compute Correlation\n"
      ],
      "metadata": {
        "id": "S6fkfDECqk4L"
      }
    },
    {
      "cell_type": "code",
      "source": [
        "reviews_vader.axes"
      ],
      "metadata": {
        "colab": {
          "base_uri": "https://localhost:8080/"
        },
        "id": "qXhxRCqSraDm",
        "outputId": "d4dab11d-44b3-4aef-8fec-4c2a163d2878"
      },
      "execution_count": null,
      "outputs": [
        {
          "output_type": "execute_result",
          "data": {
            "text/plain": [
              "[RangeIndex(start=0, stop=515738, step=1),\n",
              " Index(['Hotel_Address', 'Hotel_Name', 'Negative_Review', 'Positive_Review',\n",
              "        'Reviewer_Score', 'Total_Review', 'Negative_Score', 'Neutral_Score',\n",
              "        'Positive_Score', 'Compound_Score'],\n",
              "       dtype='object')]"
            ]
          },
          "metadata": {},
          "execution_count": 134
        }
      ]
    },
    {
      "cell_type": "code",
      "source": [
        "reviews_correlation = reviews_vader.drop(columns=['Hotel_Address', 'Hotel_Name', 'Negative_Review', 'Positive_Review',\n",
        "         'Total_Review'])"
      ],
      "metadata": {
        "id": "bZ5VjDfrqTGG"
      },
      "execution_count": null,
      "outputs": []
    },
    {
      "cell_type": "code",
      "source": [
        "reviews_correlation.head(10)"
      ],
      "metadata": {
        "colab": {
          "base_uri": "https://localhost:8080/",
          "height": 363
        },
        "id": "9-Fwcm7brnwU",
        "outputId": "0265261c-5ce3-40cd-82d1-927b7116aed9"
      },
      "execution_count": null,
      "outputs": [
        {
          "output_type": "execute_result",
          "data": {
            "text/plain": [
              "   Reviewer_Score  Negative_Score  Neutral_Score  Positive_Score  \\\n",
              "0             2.9           0.083          0.859           0.058   \n",
              "1             7.5           0.058          0.757           0.186   \n",
              "2             7.1           0.111          0.671           0.218   \n",
              "3             3.8           0.099          0.754           0.147   \n",
              "4             6.7           0.058          0.861           0.081   \n",
              "5             6.7           0.057          0.595           0.348   \n",
              "6             4.6           0.000          0.744           0.256   \n",
              "7            10.0           0.000          0.557           0.443   \n",
              "8             6.5           0.130          0.814           0.056   \n",
              "9             7.9           0.021          0.847           0.132   \n",
              "\n",
              "   Compound_Score  \n",
              "0         -0.8589  \n",
              "1          0.9494  \n",
              "2          0.8402  \n",
              "3          0.9355  \n",
              "4          0.5263  \n",
              "5          0.9287  \n",
              "6          0.9337  \n",
              "7          0.9491  \n",
              "8         -0.3856  \n",
              "9          0.8074  "
            ],
            "text/html": [
              "\n",
              "  <div id=\"df-f854cf3b-3a15-40e0-b04f-8cf3414a823b\">\n",
              "    <div class=\"colab-df-container\">\n",
              "      <div>\n",
              "<style scoped>\n",
              "    .dataframe tbody tr th:only-of-type {\n",
              "        vertical-align: middle;\n",
              "    }\n",
              "\n",
              "    .dataframe tbody tr th {\n",
              "        vertical-align: top;\n",
              "    }\n",
              "\n",
              "    .dataframe thead th {\n",
              "        text-align: right;\n",
              "    }\n",
              "</style>\n",
              "<table border=\"1\" class=\"dataframe\">\n",
              "  <thead>\n",
              "    <tr style=\"text-align: right;\">\n",
              "      <th></th>\n",
              "      <th>Reviewer_Score</th>\n",
              "      <th>Negative_Score</th>\n",
              "      <th>Neutral_Score</th>\n",
              "      <th>Positive_Score</th>\n",
              "      <th>Compound_Score</th>\n",
              "    </tr>\n",
              "  </thead>\n",
              "  <tbody>\n",
              "    <tr>\n",
              "      <th>0</th>\n",
              "      <td>2.9</td>\n",
              "      <td>0.083</td>\n",
              "      <td>0.859</td>\n",
              "      <td>0.058</td>\n",
              "      <td>-0.8589</td>\n",
              "    </tr>\n",
              "    <tr>\n",
              "      <th>1</th>\n",
              "      <td>7.5</td>\n",
              "      <td>0.058</td>\n",
              "      <td>0.757</td>\n",
              "      <td>0.186</td>\n",
              "      <td>0.9494</td>\n",
              "    </tr>\n",
              "    <tr>\n",
              "      <th>2</th>\n",
              "      <td>7.1</td>\n",
              "      <td>0.111</td>\n",
              "      <td>0.671</td>\n",
              "      <td>0.218</td>\n",
              "      <td>0.8402</td>\n",
              "    </tr>\n",
              "    <tr>\n",
              "      <th>3</th>\n",
              "      <td>3.8</td>\n",
              "      <td>0.099</td>\n",
              "      <td>0.754</td>\n",
              "      <td>0.147</td>\n",
              "      <td>0.9355</td>\n",
              "    </tr>\n",
              "    <tr>\n",
              "      <th>4</th>\n",
              "      <td>6.7</td>\n",
              "      <td>0.058</td>\n",
              "      <td>0.861</td>\n",
              "      <td>0.081</td>\n",
              "      <td>0.5263</td>\n",
              "    </tr>\n",
              "    <tr>\n",
              "      <th>5</th>\n",
              "      <td>6.7</td>\n",
              "      <td>0.057</td>\n",
              "      <td>0.595</td>\n",
              "      <td>0.348</td>\n",
              "      <td>0.9287</td>\n",
              "    </tr>\n",
              "    <tr>\n",
              "      <th>6</th>\n",
              "      <td>4.6</td>\n",
              "      <td>0.000</td>\n",
              "      <td>0.744</td>\n",
              "      <td>0.256</td>\n",
              "      <td>0.9337</td>\n",
              "    </tr>\n",
              "    <tr>\n",
              "      <th>7</th>\n",
              "      <td>10.0</td>\n",
              "      <td>0.000</td>\n",
              "      <td>0.557</td>\n",
              "      <td>0.443</td>\n",
              "      <td>0.9491</td>\n",
              "    </tr>\n",
              "    <tr>\n",
              "      <th>8</th>\n",
              "      <td>6.5</td>\n",
              "      <td>0.130</td>\n",
              "      <td>0.814</td>\n",
              "      <td>0.056</td>\n",
              "      <td>-0.3856</td>\n",
              "    </tr>\n",
              "    <tr>\n",
              "      <th>9</th>\n",
              "      <td>7.9</td>\n",
              "      <td>0.021</td>\n",
              "      <td>0.847</td>\n",
              "      <td>0.132</td>\n",
              "      <td>0.8074</td>\n",
              "    </tr>\n",
              "  </tbody>\n",
              "</table>\n",
              "</div>\n",
              "      <button class=\"colab-df-convert\" onclick=\"convertToInteractive('df-f854cf3b-3a15-40e0-b04f-8cf3414a823b')\"\n",
              "              title=\"Convert this dataframe to an interactive table.\"\n",
              "              style=\"display:none;\">\n",
              "        \n",
              "  <svg xmlns=\"http://www.w3.org/2000/svg\" height=\"24px\"viewBox=\"0 0 24 24\"\n",
              "       width=\"24px\">\n",
              "    <path d=\"M0 0h24v24H0V0z\" fill=\"none\"/>\n",
              "    <path d=\"M18.56 5.44l.94 2.06.94-2.06 2.06-.94-2.06-.94-.94-2.06-.94 2.06-2.06.94zm-11 1L8.5 8.5l.94-2.06 2.06-.94-2.06-.94L8.5 2.5l-.94 2.06-2.06.94zm10 10l.94 2.06.94-2.06 2.06-.94-2.06-.94-.94-2.06-.94 2.06-2.06.94z\"/><path d=\"M17.41 7.96l-1.37-1.37c-.4-.4-.92-.59-1.43-.59-.52 0-1.04.2-1.43.59L10.3 9.45l-7.72 7.72c-.78.78-.78 2.05 0 2.83L4 21.41c.39.39.9.59 1.41.59.51 0 1.02-.2 1.41-.59l7.78-7.78 2.81-2.81c.8-.78.8-2.07 0-2.86zM5.41 20L4 18.59l7.72-7.72 1.47 1.35L5.41 20z\"/>\n",
              "  </svg>\n",
              "      </button>\n",
              "      \n",
              "  <style>\n",
              "    .colab-df-container {\n",
              "      display:flex;\n",
              "      flex-wrap:wrap;\n",
              "      gap: 12px;\n",
              "    }\n",
              "\n",
              "    .colab-df-convert {\n",
              "      background-color: #E8F0FE;\n",
              "      border: none;\n",
              "      border-radius: 50%;\n",
              "      cursor: pointer;\n",
              "      display: none;\n",
              "      fill: #1967D2;\n",
              "      height: 32px;\n",
              "      padding: 0 0 0 0;\n",
              "      width: 32px;\n",
              "    }\n",
              "\n",
              "    .colab-df-convert:hover {\n",
              "      background-color: #E2EBFA;\n",
              "      box-shadow: 0px 1px 2px rgba(60, 64, 67, 0.3), 0px 1px 3px 1px rgba(60, 64, 67, 0.15);\n",
              "      fill: #174EA6;\n",
              "    }\n",
              "\n",
              "    [theme=dark] .colab-df-convert {\n",
              "      background-color: #3B4455;\n",
              "      fill: #D2E3FC;\n",
              "    }\n",
              "\n",
              "    [theme=dark] .colab-df-convert:hover {\n",
              "      background-color: #434B5C;\n",
              "      box-shadow: 0px 1px 3px 1px rgba(0, 0, 0, 0.15);\n",
              "      filter: drop-shadow(0px 1px 2px rgba(0, 0, 0, 0.3));\n",
              "      fill: #FFFFFF;\n",
              "    }\n",
              "  </style>\n",
              "\n",
              "      <script>\n",
              "        const buttonEl =\n",
              "          document.querySelector('#df-f854cf3b-3a15-40e0-b04f-8cf3414a823b button.colab-df-convert');\n",
              "        buttonEl.style.display =\n",
              "          google.colab.kernel.accessAllowed ? 'block' : 'none';\n",
              "\n",
              "        async function convertToInteractive(key) {\n",
              "          const element = document.querySelector('#df-f854cf3b-3a15-40e0-b04f-8cf3414a823b');\n",
              "          const dataTable =\n",
              "            await google.colab.kernel.invokeFunction('convertToInteractive',\n",
              "                                                     [key], {});\n",
              "          if (!dataTable) return;\n",
              "\n",
              "          const docLinkHtml = 'Like what you see? Visit the ' +\n",
              "            '<a target=\"_blank\" href=https://colab.research.google.com/notebooks/data_table.ipynb>data table notebook</a>'\n",
              "            + ' to learn more about interactive tables.';\n",
              "          element.innerHTML = '';\n",
              "          dataTable['output_type'] = 'display_data';\n",
              "          await google.colab.output.renderOutput(dataTable, element);\n",
              "          const docLink = document.createElement('div');\n",
              "          docLink.innerHTML = docLinkHtml;\n",
              "          element.appendChild(docLink);\n",
              "        }\n",
              "      </script>\n",
              "    </div>\n",
              "  </div>\n",
              "  "
            ]
          },
          "metadata": {},
          "execution_count": 142
        }
      ]
    },
    {
      "cell_type": "code",
      "source": [
        "reviews_correlation.corr(method = 'pearson')"
      ],
      "metadata": {
        "colab": {
          "base_uri": "https://localhost:8080/",
          "height": 206
        },
        "id": "FkolB3FPrrhS",
        "outputId": "51848452-a0d3-43ae-d736-1637b3eb1a06"
      },
      "execution_count": null,
      "outputs": [
        {
          "output_type": "execute_result",
          "data": {
            "text/plain": [
              "                Reviewer_Score  Negative_Score  Neutral_Score  Positive_Score  \\\n",
              "Reviewer_Score        1.000000       -0.286975      -0.276065        0.408533   \n",
              "Negative_Score       -0.286975        1.000000      -0.166952       -0.340340   \n",
              "Neutral_Score        -0.276065       -0.166952       1.000000       -0.861613   \n",
              "Positive_Score        0.408533       -0.340340      -0.861613        1.000000   \n",
              "Compound_Score        0.454674       -0.583777      -0.374796        0.655223   \n",
              "\n",
              "                Compound_Score  \n",
              "Reviewer_Score        0.454674  \n",
              "Negative_Score       -0.583777  \n",
              "Neutral_Score        -0.374796  \n",
              "Positive_Score        0.655223  \n",
              "Compound_Score        1.000000  "
            ],
            "text/html": [
              "\n",
              "  <div id=\"df-718aac4a-2e6e-4081-a175-96790e645f6b\">\n",
              "    <div class=\"colab-df-container\">\n",
              "      <div>\n",
              "<style scoped>\n",
              "    .dataframe tbody tr th:only-of-type {\n",
              "        vertical-align: middle;\n",
              "    }\n",
              "\n",
              "    .dataframe tbody tr th {\n",
              "        vertical-align: top;\n",
              "    }\n",
              "\n",
              "    .dataframe thead th {\n",
              "        text-align: right;\n",
              "    }\n",
              "</style>\n",
              "<table border=\"1\" class=\"dataframe\">\n",
              "  <thead>\n",
              "    <tr style=\"text-align: right;\">\n",
              "      <th></th>\n",
              "      <th>Reviewer_Score</th>\n",
              "      <th>Negative_Score</th>\n",
              "      <th>Neutral_Score</th>\n",
              "      <th>Positive_Score</th>\n",
              "      <th>Compound_Score</th>\n",
              "    </tr>\n",
              "  </thead>\n",
              "  <tbody>\n",
              "    <tr>\n",
              "      <th>Reviewer_Score</th>\n",
              "      <td>1.000000</td>\n",
              "      <td>-0.286975</td>\n",
              "      <td>-0.276065</td>\n",
              "      <td>0.408533</td>\n",
              "      <td>0.454674</td>\n",
              "    </tr>\n",
              "    <tr>\n",
              "      <th>Negative_Score</th>\n",
              "      <td>-0.286975</td>\n",
              "      <td>1.000000</td>\n",
              "      <td>-0.166952</td>\n",
              "      <td>-0.340340</td>\n",
              "      <td>-0.583777</td>\n",
              "    </tr>\n",
              "    <tr>\n",
              "      <th>Neutral_Score</th>\n",
              "      <td>-0.276065</td>\n",
              "      <td>-0.166952</td>\n",
              "      <td>1.000000</td>\n",
              "      <td>-0.861613</td>\n",
              "      <td>-0.374796</td>\n",
              "    </tr>\n",
              "    <tr>\n",
              "      <th>Positive_Score</th>\n",
              "      <td>0.408533</td>\n",
              "      <td>-0.340340</td>\n",
              "      <td>-0.861613</td>\n",
              "      <td>1.000000</td>\n",
              "      <td>0.655223</td>\n",
              "    </tr>\n",
              "    <tr>\n",
              "      <th>Compound_Score</th>\n",
              "      <td>0.454674</td>\n",
              "      <td>-0.583777</td>\n",
              "      <td>-0.374796</td>\n",
              "      <td>0.655223</td>\n",
              "      <td>1.000000</td>\n",
              "    </tr>\n",
              "  </tbody>\n",
              "</table>\n",
              "</div>\n",
              "      <button class=\"colab-df-convert\" onclick=\"convertToInteractive('df-718aac4a-2e6e-4081-a175-96790e645f6b')\"\n",
              "              title=\"Convert this dataframe to an interactive table.\"\n",
              "              style=\"display:none;\">\n",
              "        \n",
              "  <svg xmlns=\"http://www.w3.org/2000/svg\" height=\"24px\"viewBox=\"0 0 24 24\"\n",
              "       width=\"24px\">\n",
              "    <path d=\"M0 0h24v24H0V0z\" fill=\"none\"/>\n",
              "    <path d=\"M18.56 5.44l.94 2.06.94-2.06 2.06-.94-2.06-.94-.94-2.06-.94 2.06-2.06.94zm-11 1L8.5 8.5l.94-2.06 2.06-.94-2.06-.94L8.5 2.5l-.94 2.06-2.06.94zm10 10l.94 2.06.94-2.06 2.06-.94-2.06-.94-.94-2.06-.94 2.06-2.06.94z\"/><path d=\"M17.41 7.96l-1.37-1.37c-.4-.4-.92-.59-1.43-.59-.52 0-1.04.2-1.43.59L10.3 9.45l-7.72 7.72c-.78.78-.78 2.05 0 2.83L4 21.41c.39.39.9.59 1.41.59.51 0 1.02-.2 1.41-.59l7.78-7.78 2.81-2.81c.8-.78.8-2.07 0-2.86zM5.41 20L4 18.59l7.72-7.72 1.47 1.35L5.41 20z\"/>\n",
              "  </svg>\n",
              "      </button>\n",
              "      \n",
              "  <style>\n",
              "    .colab-df-container {\n",
              "      display:flex;\n",
              "      flex-wrap:wrap;\n",
              "      gap: 12px;\n",
              "    }\n",
              "\n",
              "    .colab-df-convert {\n",
              "      background-color: #E8F0FE;\n",
              "      border: none;\n",
              "      border-radius: 50%;\n",
              "      cursor: pointer;\n",
              "      display: none;\n",
              "      fill: #1967D2;\n",
              "      height: 32px;\n",
              "      padding: 0 0 0 0;\n",
              "      width: 32px;\n",
              "    }\n",
              "\n",
              "    .colab-df-convert:hover {\n",
              "      background-color: #E2EBFA;\n",
              "      box-shadow: 0px 1px 2px rgba(60, 64, 67, 0.3), 0px 1px 3px 1px rgba(60, 64, 67, 0.15);\n",
              "      fill: #174EA6;\n",
              "    }\n",
              "\n",
              "    [theme=dark] .colab-df-convert {\n",
              "      background-color: #3B4455;\n",
              "      fill: #D2E3FC;\n",
              "    }\n",
              "\n",
              "    [theme=dark] .colab-df-convert:hover {\n",
              "      background-color: #434B5C;\n",
              "      box-shadow: 0px 1px 3px 1px rgba(0, 0, 0, 0.15);\n",
              "      filter: drop-shadow(0px 1px 2px rgba(0, 0, 0, 0.3));\n",
              "      fill: #FFFFFF;\n",
              "    }\n",
              "  </style>\n",
              "\n",
              "      <script>\n",
              "        const buttonEl =\n",
              "          document.querySelector('#df-718aac4a-2e6e-4081-a175-96790e645f6b button.colab-df-convert');\n",
              "        buttonEl.style.display =\n",
              "          google.colab.kernel.accessAllowed ? 'block' : 'none';\n",
              "\n",
              "        async function convertToInteractive(key) {\n",
              "          const element = document.querySelector('#df-718aac4a-2e6e-4081-a175-96790e645f6b');\n",
              "          const dataTable =\n",
              "            await google.colab.kernel.invokeFunction('convertToInteractive',\n",
              "                                                     [key], {});\n",
              "          if (!dataTable) return;\n",
              "\n",
              "          const docLinkHtml = 'Like what you see? Visit the ' +\n",
              "            '<a target=\"_blank\" href=https://colab.research.google.com/notebooks/data_table.ipynb>data table notebook</a>'\n",
              "            + ' to learn more about interactive tables.';\n",
              "          element.innerHTML = '';\n",
              "          dataTable['output_type'] = 'display_data';\n",
              "          await google.colab.output.renderOutput(dataTable, element);\n",
              "          const docLink = document.createElement('div');\n",
              "          docLink.innerHTML = docLinkHtml;\n",
              "          element.appendChild(docLink);\n",
              "        }\n",
              "      </script>\n",
              "    </div>\n",
              "  </div>\n",
              "  "
            ]
          },
          "metadata": {},
          "execution_count": 143
        }
      ]
    },
    {
      "cell_type": "markdown",
      "source": [
        "#Task 3 and 4 : Token count and correlation"
      ],
      "metadata": {
        "id": "W6j9g7GZtOni"
      }
    },
    {
      "cell_type": "code",
      "source": [
        "reviews_vader.head(3)"
      ],
      "metadata": {
        "colab": {
          "base_uri": "https://localhost:8080/",
          "height": 240
        },
        "id": "-hOanhYetN9d",
        "outputId": "a8ee49e7-7235-4503-a981-de4262857fe5"
      },
      "execution_count": null,
      "outputs": [
        {
          "output_type": "execute_result",
          "data": {
            "text/plain": [
              "                                       Hotel_Address   Hotel_Name  \\\n",
              "0   s Gravesandestraat 55 Oost 1092 AA Amsterdam ...  Hotel Arena   \n",
              "1   s Gravesandestraat 55 Oost 1092 AA Amsterdam ...  Hotel Arena   \n",
              "2   s Gravesandestraat 55 Oost 1092 AA Amsterdam ...  Hotel Arena   \n",
              "\n",
              "                                     Negative_Review  \\\n",
              "0   I am so angry that i made this post available...   \n",
              "1                                        No Negative   \n",
              "2   Rooms are nice but for elderly a bit difficul...   \n",
              "\n",
              "                                     Positive_Review  Reviewer_Score  \\\n",
              "0   Only the park outside of the hotel was beauti...             2.9   \n",
              "1   No real complaints the hotel was great great ...             7.5   \n",
              "2   Location was good and staff were ok It is cut...             7.1   \n",
              "\n",
              "                                        Total_Review  Negative_Score  \\\n",
              "0   I am so angry that i made this post available...           0.083   \n",
              "1    No real complaints the hotel was great great...           0.058   \n",
              "2   Rooms are nice but for elderly a bit difficul...           0.111   \n",
              "\n",
              "   Neutral_Score  Positive_Score  Compound_Score  \n",
              "0          0.859           0.058         -0.8589  \n",
              "1          0.757           0.186          0.9494  \n",
              "2          0.671           0.218          0.8402  "
            ],
            "text/html": [
              "\n",
              "  <div id=\"df-cf221be0-6757-483b-b7da-4e8e18c81c26\">\n",
              "    <div class=\"colab-df-container\">\n",
              "      <div>\n",
              "<style scoped>\n",
              "    .dataframe tbody tr th:only-of-type {\n",
              "        vertical-align: middle;\n",
              "    }\n",
              "\n",
              "    .dataframe tbody tr th {\n",
              "        vertical-align: top;\n",
              "    }\n",
              "\n",
              "    .dataframe thead th {\n",
              "        text-align: right;\n",
              "    }\n",
              "</style>\n",
              "<table border=\"1\" class=\"dataframe\">\n",
              "  <thead>\n",
              "    <tr style=\"text-align: right;\">\n",
              "      <th></th>\n",
              "      <th>Hotel_Address</th>\n",
              "      <th>Hotel_Name</th>\n",
              "      <th>Negative_Review</th>\n",
              "      <th>Positive_Review</th>\n",
              "      <th>Reviewer_Score</th>\n",
              "      <th>Total_Review</th>\n",
              "      <th>Negative_Score</th>\n",
              "      <th>Neutral_Score</th>\n",
              "      <th>Positive_Score</th>\n",
              "      <th>Compound_Score</th>\n",
              "    </tr>\n",
              "  </thead>\n",
              "  <tbody>\n",
              "    <tr>\n",
              "      <th>0</th>\n",
              "      <td>s Gravesandestraat 55 Oost 1092 AA Amsterdam ...</td>\n",
              "      <td>Hotel Arena</td>\n",
              "      <td>I am so angry that i made this post available...</td>\n",
              "      <td>Only the park outside of the hotel was beauti...</td>\n",
              "      <td>2.9</td>\n",
              "      <td>I am so angry that i made this post available...</td>\n",
              "      <td>0.083</td>\n",
              "      <td>0.859</td>\n",
              "      <td>0.058</td>\n",
              "      <td>-0.8589</td>\n",
              "    </tr>\n",
              "    <tr>\n",
              "      <th>1</th>\n",
              "      <td>s Gravesandestraat 55 Oost 1092 AA Amsterdam ...</td>\n",
              "      <td>Hotel Arena</td>\n",
              "      <td>No Negative</td>\n",
              "      <td>No real complaints the hotel was great great ...</td>\n",
              "      <td>7.5</td>\n",
              "      <td>No real complaints the hotel was great great...</td>\n",
              "      <td>0.058</td>\n",
              "      <td>0.757</td>\n",
              "      <td>0.186</td>\n",
              "      <td>0.9494</td>\n",
              "    </tr>\n",
              "    <tr>\n",
              "      <th>2</th>\n",
              "      <td>s Gravesandestraat 55 Oost 1092 AA Amsterdam ...</td>\n",
              "      <td>Hotel Arena</td>\n",
              "      <td>Rooms are nice but for elderly a bit difficul...</td>\n",
              "      <td>Location was good and staff were ok It is cut...</td>\n",
              "      <td>7.1</td>\n",
              "      <td>Rooms are nice but for elderly a bit difficul...</td>\n",
              "      <td>0.111</td>\n",
              "      <td>0.671</td>\n",
              "      <td>0.218</td>\n",
              "      <td>0.8402</td>\n",
              "    </tr>\n",
              "  </tbody>\n",
              "</table>\n",
              "</div>\n",
              "      <button class=\"colab-df-convert\" onclick=\"convertToInteractive('df-cf221be0-6757-483b-b7da-4e8e18c81c26')\"\n",
              "              title=\"Convert this dataframe to an interactive table.\"\n",
              "              style=\"display:none;\">\n",
              "        \n",
              "  <svg xmlns=\"http://www.w3.org/2000/svg\" height=\"24px\"viewBox=\"0 0 24 24\"\n",
              "       width=\"24px\">\n",
              "    <path d=\"M0 0h24v24H0V0z\" fill=\"none\"/>\n",
              "    <path d=\"M18.56 5.44l.94 2.06.94-2.06 2.06-.94-2.06-.94-.94-2.06-.94 2.06-2.06.94zm-11 1L8.5 8.5l.94-2.06 2.06-.94-2.06-.94L8.5 2.5l-.94 2.06-2.06.94zm10 10l.94 2.06.94-2.06 2.06-.94-2.06-.94-.94-2.06-.94 2.06-2.06.94z\"/><path d=\"M17.41 7.96l-1.37-1.37c-.4-.4-.92-.59-1.43-.59-.52 0-1.04.2-1.43.59L10.3 9.45l-7.72 7.72c-.78.78-.78 2.05 0 2.83L4 21.41c.39.39.9.59 1.41.59.51 0 1.02-.2 1.41-.59l7.78-7.78 2.81-2.81c.8-.78.8-2.07 0-2.86zM5.41 20L4 18.59l7.72-7.72 1.47 1.35L5.41 20z\"/>\n",
              "  </svg>\n",
              "      </button>\n",
              "      \n",
              "  <style>\n",
              "    .colab-df-container {\n",
              "      display:flex;\n",
              "      flex-wrap:wrap;\n",
              "      gap: 12px;\n",
              "    }\n",
              "\n",
              "    .colab-df-convert {\n",
              "      background-color: #E8F0FE;\n",
              "      border: none;\n",
              "      border-radius: 50%;\n",
              "      cursor: pointer;\n",
              "      display: none;\n",
              "      fill: #1967D2;\n",
              "      height: 32px;\n",
              "      padding: 0 0 0 0;\n",
              "      width: 32px;\n",
              "    }\n",
              "\n",
              "    .colab-df-convert:hover {\n",
              "      background-color: #E2EBFA;\n",
              "      box-shadow: 0px 1px 2px rgba(60, 64, 67, 0.3), 0px 1px 3px 1px rgba(60, 64, 67, 0.15);\n",
              "      fill: #174EA6;\n",
              "    }\n",
              "\n",
              "    [theme=dark] .colab-df-convert {\n",
              "      background-color: #3B4455;\n",
              "      fill: #D2E3FC;\n",
              "    }\n",
              "\n",
              "    [theme=dark] .colab-df-convert:hover {\n",
              "      background-color: #434B5C;\n",
              "      box-shadow: 0px 1px 3px 1px rgba(0, 0, 0, 0.15);\n",
              "      filter: drop-shadow(0px 1px 2px rgba(0, 0, 0, 0.3));\n",
              "      fill: #FFFFFF;\n",
              "    }\n",
              "  </style>\n",
              "\n",
              "      <script>\n",
              "        const buttonEl =\n",
              "          document.querySelector('#df-cf221be0-6757-483b-b7da-4e8e18c81c26 button.colab-df-convert');\n",
              "        buttonEl.style.display =\n",
              "          google.colab.kernel.accessAllowed ? 'block' : 'none';\n",
              "\n",
              "        async function convertToInteractive(key) {\n",
              "          const element = document.querySelector('#df-cf221be0-6757-483b-b7da-4e8e18c81c26');\n",
              "          const dataTable =\n",
              "            await google.colab.kernel.invokeFunction('convertToInteractive',\n",
              "                                                     [key], {});\n",
              "          if (!dataTable) return;\n",
              "\n",
              "          const docLinkHtml = 'Like what you see? Visit the ' +\n",
              "            '<a target=\"_blank\" href=https://colab.research.google.com/notebooks/data_table.ipynb>data table notebook</a>'\n",
              "            + ' to learn more about interactive tables.';\n",
              "          element.innerHTML = '';\n",
              "          dataTable['output_type'] = 'display_data';\n",
              "          await google.colab.output.renderOutput(dataTable, element);\n",
              "          const docLink = document.createElement('div');\n",
              "          docLink.innerHTML = docLinkHtml;\n",
              "          element.appendChild(docLink);\n",
              "        }\n",
              "      </script>\n",
              "    </div>\n",
              "  </div>\n",
              "  "
            ]
          },
          "metadata": {},
          "execution_count": 144
        }
      ]
    },
    {
      "cell_type": "code",
      "source": [
        "reviews_tokencnt = reviews_vader.drop(columns=['Hotel_Address', 'Hotel_Name', 'Negative_Review', 'Positive_Review','Negative_Score','Positive_Score','Neutral_Score'])"
      ],
      "metadata": {
        "id": "gYcbbXM_tmdS"
      },
      "execution_count": null,
      "outputs": []
    },
    {
      "cell_type": "code",
      "source": [
        "reviews_tokencnt.head(3)"
      ],
      "metadata": {
        "colab": {
          "base_uri": "https://localhost:8080/",
          "height": 143
        },
        "id": "gKFFllm8vQ7D",
        "outputId": "02c08548-8dfa-4244-962f-a4d23140540e"
      },
      "execution_count": null,
      "outputs": [
        {
          "output_type": "execute_result",
          "data": {
            "text/plain": [
              "   Reviewer_Score                                       Total_Review  \\\n",
              "0             2.9   I am so angry that i made this post available...   \n",
              "1             7.5    No real complaints the hotel was great great...   \n",
              "2             7.1   Rooms are nice but for elderly a bit difficul...   \n",
              "\n",
              "   Compound_Score  \n",
              "0         -0.8589  \n",
              "1          0.9494  \n",
              "2          0.8402  "
            ],
            "text/html": [
              "\n",
              "  <div id=\"df-e8d44880-b950-47a2-808e-fe0308c86258\">\n",
              "    <div class=\"colab-df-container\">\n",
              "      <div>\n",
              "<style scoped>\n",
              "    .dataframe tbody tr th:only-of-type {\n",
              "        vertical-align: middle;\n",
              "    }\n",
              "\n",
              "    .dataframe tbody tr th {\n",
              "        vertical-align: top;\n",
              "    }\n",
              "\n",
              "    .dataframe thead th {\n",
              "        text-align: right;\n",
              "    }\n",
              "</style>\n",
              "<table border=\"1\" class=\"dataframe\">\n",
              "  <thead>\n",
              "    <tr style=\"text-align: right;\">\n",
              "      <th></th>\n",
              "      <th>Reviewer_Score</th>\n",
              "      <th>Total_Review</th>\n",
              "      <th>Compound_Score</th>\n",
              "    </tr>\n",
              "  </thead>\n",
              "  <tbody>\n",
              "    <tr>\n",
              "      <th>0</th>\n",
              "      <td>2.9</td>\n",
              "      <td>I am so angry that i made this post available...</td>\n",
              "      <td>-0.8589</td>\n",
              "    </tr>\n",
              "    <tr>\n",
              "      <th>1</th>\n",
              "      <td>7.5</td>\n",
              "      <td>No real complaints the hotel was great great...</td>\n",
              "      <td>0.9494</td>\n",
              "    </tr>\n",
              "    <tr>\n",
              "      <th>2</th>\n",
              "      <td>7.1</td>\n",
              "      <td>Rooms are nice but for elderly a bit difficul...</td>\n",
              "      <td>0.8402</td>\n",
              "    </tr>\n",
              "  </tbody>\n",
              "</table>\n",
              "</div>\n",
              "      <button class=\"colab-df-convert\" onclick=\"convertToInteractive('df-e8d44880-b950-47a2-808e-fe0308c86258')\"\n",
              "              title=\"Convert this dataframe to an interactive table.\"\n",
              "              style=\"display:none;\">\n",
              "        \n",
              "  <svg xmlns=\"http://www.w3.org/2000/svg\" height=\"24px\"viewBox=\"0 0 24 24\"\n",
              "       width=\"24px\">\n",
              "    <path d=\"M0 0h24v24H0V0z\" fill=\"none\"/>\n",
              "    <path d=\"M18.56 5.44l.94 2.06.94-2.06 2.06-.94-2.06-.94-.94-2.06-.94 2.06-2.06.94zm-11 1L8.5 8.5l.94-2.06 2.06-.94-2.06-.94L8.5 2.5l-.94 2.06-2.06.94zm10 10l.94 2.06.94-2.06 2.06-.94-2.06-.94-.94-2.06-.94 2.06-2.06.94z\"/><path d=\"M17.41 7.96l-1.37-1.37c-.4-.4-.92-.59-1.43-.59-.52 0-1.04.2-1.43.59L10.3 9.45l-7.72 7.72c-.78.78-.78 2.05 0 2.83L4 21.41c.39.39.9.59 1.41.59.51 0 1.02-.2 1.41-.59l7.78-7.78 2.81-2.81c.8-.78.8-2.07 0-2.86zM5.41 20L4 18.59l7.72-7.72 1.47 1.35L5.41 20z\"/>\n",
              "  </svg>\n",
              "      </button>\n",
              "      \n",
              "  <style>\n",
              "    .colab-df-container {\n",
              "      display:flex;\n",
              "      flex-wrap:wrap;\n",
              "      gap: 12px;\n",
              "    }\n",
              "\n",
              "    .colab-df-convert {\n",
              "      background-color: #E8F0FE;\n",
              "      border: none;\n",
              "      border-radius: 50%;\n",
              "      cursor: pointer;\n",
              "      display: none;\n",
              "      fill: #1967D2;\n",
              "      height: 32px;\n",
              "      padding: 0 0 0 0;\n",
              "      width: 32px;\n",
              "    }\n",
              "\n",
              "    .colab-df-convert:hover {\n",
              "      background-color: #E2EBFA;\n",
              "      box-shadow: 0px 1px 2px rgba(60, 64, 67, 0.3), 0px 1px 3px 1px rgba(60, 64, 67, 0.15);\n",
              "      fill: #174EA6;\n",
              "    }\n",
              "\n",
              "    [theme=dark] .colab-df-convert {\n",
              "      background-color: #3B4455;\n",
              "      fill: #D2E3FC;\n",
              "    }\n",
              "\n",
              "    [theme=dark] .colab-df-convert:hover {\n",
              "      background-color: #434B5C;\n",
              "      box-shadow: 0px 1px 3px 1px rgba(0, 0, 0, 0.15);\n",
              "      filter: drop-shadow(0px 1px 2px rgba(0, 0, 0, 0.3));\n",
              "      fill: #FFFFFF;\n",
              "    }\n",
              "  </style>\n",
              "\n",
              "      <script>\n",
              "        const buttonEl =\n",
              "          document.querySelector('#df-e8d44880-b950-47a2-808e-fe0308c86258 button.colab-df-convert');\n",
              "        buttonEl.style.display =\n",
              "          google.colab.kernel.accessAllowed ? 'block' : 'none';\n",
              "\n",
              "        async function convertToInteractive(key) {\n",
              "          const element = document.querySelector('#df-e8d44880-b950-47a2-808e-fe0308c86258');\n",
              "          const dataTable =\n",
              "            await google.colab.kernel.invokeFunction('convertToInteractive',\n",
              "                                                     [key], {});\n",
              "          if (!dataTable) return;\n",
              "\n",
              "          const docLinkHtml = 'Like what you see? Visit the ' +\n",
              "            '<a target=\"_blank\" href=https://colab.research.google.com/notebooks/data_table.ipynb>data table notebook</a>'\n",
              "            + ' to learn more about interactive tables.';\n",
              "          element.innerHTML = '';\n",
              "          dataTable['output_type'] = 'display_data';\n",
              "          await google.colab.output.renderOutput(dataTable, element);\n",
              "          const docLink = document.createElement('div');\n",
              "          docLink.innerHTML = docLinkHtml;\n",
              "          element.appendChild(docLink);\n",
              "        }\n",
              "      </script>\n",
              "    </div>\n",
              "  </div>\n",
              "  "
            ]
          },
          "metadata": {},
          "execution_count": 157
        }
      ]
    },
    {
      "cell_type": "code",
      "source": [
        "reviews_tokencnt['Token_Count'] = reviews_tokencnt['Total_Review'].map(lambda x: len(word_tokenize(x)))"
      ],
      "metadata": {
        "id": "qCpTg-oXvTvE"
      },
      "execution_count": null,
      "outputs": []
    },
    {
      "cell_type": "code",
      "source": [
        "reviews_tokencnt = reviews_tokencnt.drop(columns=[\"Total_Review\"])\n",
        "reviews_tokencnt.head(3)"
      ],
      "metadata": {
        "colab": {
          "base_uri": "https://localhost:8080/",
          "height": 143
        },
        "id": "Vh-k5yTfv8eA",
        "outputId": "30b1ab1b-c638-4aff-d11c-ec5aa268f1b9"
      },
      "execution_count": null,
      "outputs": [
        {
          "output_type": "execute_result",
          "data": {
            "text/plain": [
              "   Reviewer_Score  Compound_Score  Token_Count\n",
              "0             2.9         -0.8589          404\n",
              "1             7.5          0.9494          103\n",
              "2             7.1          0.8402           59"
            ],
            "text/html": [
              "\n",
              "  <div id=\"df-d25551d6-8461-41ca-ae39-10f87455c346\">\n",
              "    <div class=\"colab-df-container\">\n",
              "      <div>\n",
              "<style scoped>\n",
              "    .dataframe tbody tr th:only-of-type {\n",
              "        vertical-align: middle;\n",
              "    }\n",
              "\n",
              "    .dataframe tbody tr th {\n",
              "        vertical-align: top;\n",
              "    }\n",
              "\n",
              "    .dataframe thead th {\n",
              "        text-align: right;\n",
              "    }\n",
              "</style>\n",
              "<table border=\"1\" class=\"dataframe\">\n",
              "  <thead>\n",
              "    <tr style=\"text-align: right;\">\n",
              "      <th></th>\n",
              "      <th>Reviewer_Score</th>\n",
              "      <th>Compound_Score</th>\n",
              "      <th>Token_Count</th>\n",
              "    </tr>\n",
              "  </thead>\n",
              "  <tbody>\n",
              "    <tr>\n",
              "      <th>0</th>\n",
              "      <td>2.9</td>\n",
              "      <td>-0.8589</td>\n",
              "      <td>404</td>\n",
              "    </tr>\n",
              "    <tr>\n",
              "      <th>1</th>\n",
              "      <td>7.5</td>\n",
              "      <td>0.9494</td>\n",
              "      <td>103</td>\n",
              "    </tr>\n",
              "    <tr>\n",
              "      <th>2</th>\n",
              "      <td>7.1</td>\n",
              "      <td>0.8402</td>\n",
              "      <td>59</td>\n",
              "    </tr>\n",
              "  </tbody>\n",
              "</table>\n",
              "</div>\n",
              "      <button class=\"colab-df-convert\" onclick=\"convertToInteractive('df-d25551d6-8461-41ca-ae39-10f87455c346')\"\n",
              "              title=\"Convert this dataframe to an interactive table.\"\n",
              "              style=\"display:none;\">\n",
              "        \n",
              "  <svg xmlns=\"http://www.w3.org/2000/svg\" height=\"24px\"viewBox=\"0 0 24 24\"\n",
              "       width=\"24px\">\n",
              "    <path d=\"M0 0h24v24H0V0z\" fill=\"none\"/>\n",
              "    <path d=\"M18.56 5.44l.94 2.06.94-2.06 2.06-.94-2.06-.94-.94-2.06-.94 2.06-2.06.94zm-11 1L8.5 8.5l.94-2.06 2.06-.94-2.06-.94L8.5 2.5l-.94 2.06-2.06.94zm10 10l.94 2.06.94-2.06 2.06-.94-2.06-.94-.94-2.06-.94 2.06-2.06.94z\"/><path d=\"M17.41 7.96l-1.37-1.37c-.4-.4-.92-.59-1.43-.59-.52 0-1.04.2-1.43.59L10.3 9.45l-7.72 7.72c-.78.78-.78 2.05 0 2.83L4 21.41c.39.39.9.59 1.41.59.51 0 1.02-.2 1.41-.59l7.78-7.78 2.81-2.81c.8-.78.8-2.07 0-2.86zM5.41 20L4 18.59l7.72-7.72 1.47 1.35L5.41 20z\"/>\n",
              "  </svg>\n",
              "      </button>\n",
              "      \n",
              "  <style>\n",
              "    .colab-df-container {\n",
              "      display:flex;\n",
              "      flex-wrap:wrap;\n",
              "      gap: 12px;\n",
              "    }\n",
              "\n",
              "    .colab-df-convert {\n",
              "      background-color: #E8F0FE;\n",
              "      border: none;\n",
              "      border-radius: 50%;\n",
              "      cursor: pointer;\n",
              "      display: none;\n",
              "      fill: #1967D2;\n",
              "      height: 32px;\n",
              "      padding: 0 0 0 0;\n",
              "      width: 32px;\n",
              "    }\n",
              "\n",
              "    .colab-df-convert:hover {\n",
              "      background-color: #E2EBFA;\n",
              "      box-shadow: 0px 1px 2px rgba(60, 64, 67, 0.3), 0px 1px 3px 1px rgba(60, 64, 67, 0.15);\n",
              "      fill: #174EA6;\n",
              "    }\n",
              "\n",
              "    [theme=dark] .colab-df-convert {\n",
              "      background-color: #3B4455;\n",
              "      fill: #D2E3FC;\n",
              "    }\n",
              "\n",
              "    [theme=dark] .colab-df-convert:hover {\n",
              "      background-color: #434B5C;\n",
              "      box-shadow: 0px 1px 3px 1px rgba(0, 0, 0, 0.15);\n",
              "      filter: drop-shadow(0px 1px 2px rgba(0, 0, 0, 0.3));\n",
              "      fill: #FFFFFF;\n",
              "    }\n",
              "  </style>\n",
              "\n",
              "      <script>\n",
              "        const buttonEl =\n",
              "          document.querySelector('#df-d25551d6-8461-41ca-ae39-10f87455c346 button.colab-df-convert');\n",
              "        buttonEl.style.display =\n",
              "          google.colab.kernel.accessAllowed ? 'block' : 'none';\n",
              "\n",
              "        async function convertToInteractive(key) {\n",
              "          const element = document.querySelector('#df-d25551d6-8461-41ca-ae39-10f87455c346');\n",
              "          const dataTable =\n",
              "            await google.colab.kernel.invokeFunction('convertToInteractive',\n",
              "                                                     [key], {});\n",
              "          if (!dataTable) return;\n",
              "\n",
              "          const docLinkHtml = 'Like what you see? Visit the ' +\n",
              "            '<a target=\"_blank\" href=https://colab.research.google.com/notebooks/data_table.ipynb>data table notebook</a>'\n",
              "            + ' to learn more about interactive tables.';\n",
              "          element.innerHTML = '';\n",
              "          dataTable['output_type'] = 'display_data';\n",
              "          await google.colab.output.renderOutput(dataTable, element);\n",
              "          const docLink = document.createElement('div');\n",
              "          docLink.innerHTML = docLinkHtml;\n",
              "          element.appendChild(docLink);\n",
              "        }\n",
              "      </script>\n",
              "    </div>\n",
              "  </div>\n",
              "  "
            ]
          },
          "metadata": {},
          "execution_count": 163
        }
      ]
    },
    {
      "cell_type": "code",
      "source": [
        "reviews_tokencnt.corr(method = 'pearson')"
      ],
      "metadata": {
        "colab": {
          "base_uri": "https://localhost:8080/",
          "height": 143
        },
        "id": "GayhtV-bwuFm",
        "outputId": "0c63aa56-08d4-442f-e717-9415d8f194e0"
      },
      "execution_count": null,
      "outputs": [
        {
          "output_type": "execute_result",
          "data": {
            "text/plain": [
              "                Reviewer_Score  Compound_Score  Token_Count\n",
              "Reviewer_Score        1.000000        0.454674    -0.167889\n",
              "Compound_Score        0.454674        1.000000     0.163071\n",
              "Token_Count          -0.167889        0.163071     1.000000"
            ],
            "text/html": [
              "\n",
              "  <div id=\"df-6f2c6c35-48a4-4fda-8600-964c28e20462\">\n",
              "    <div class=\"colab-df-container\">\n",
              "      <div>\n",
              "<style scoped>\n",
              "    .dataframe tbody tr th:only-of-type {\n",
              "        vertical-align: middle;\n",
              "    }\n",
              "\n",
              "    .dataframe tbody tr th {\n",
              "        vertical-align: top;\n",
              "    }\n",
              "\n",
              "    .dataframe thead th {\n",
              "        text-align: right;\n",
              "    }\n",
              "</style>\n",
              "<table border=\"1\" class=\"dataframe\">\n",
              "  <thead>\n",
              "    <tr style=\"text-align: right;\">\n",
              "      <th></th>\n",
              "      <th>Reviewer_Score</th>\n",
              "      <th>Compound_Score</th>\n",
              "      <th>Token_Count</th>\n",
              "    </tr>\n",
              "  </thead>\n",
              "  <tbody>\n",
              "    <tr>\n",
              "      <th>Reviewer_Score</th>\n",
              "      <td>1.000000</td>\n",
              "      <td>0.454674</td>\n",
              "      <td>-0.167889</td>\n",
              "    </tr>\n",
              "    <tr>\n",
              "      <th>Compound_Score</th>\n",
              "      <td>0.454674</td>\n",
              "      <td>1.000000</td>\n",
              "      <td>0.163071</td>\n",
              "    </tr>\n",
              "    <tr>\n",
              "      <th>Token_Count</th>\n",
              "      <td>-0.167889</td>\n",
              "      <td>0.163071</td>\n",
              "      <td>1.000000</td>\n",
              "    </tr>\n",
              "  </tbody>\n",
              "</table>\n",
              "</div>\n",
              "      <button class=\"colab-df-convert\" onclick=\"convertToInteractive('df-6f2c6c35-48a4-4fda-8600-964c28e20462')\"\n",
              "              title=\"Convert this dataframe to an interactive table.\"\n",
              "              style=\"display:none;\">\n",
              "        \n",
              "  <svg xmlns=\"http://www.w3.org/2000/svg\" height=\"24px\"viewBox=\"0 0 24 24\"\n",
              "       width=\"24px\">\n",
              "    <path d=\"M0 0h24v24H0V0z\" fill=\"none\"/>\n",
              "    <path d=\"M18.56 5.44l.94 2.06.94-2.06 2.06-.94-2.06-.94-.94-2.06-.94 2.06-2.06.94zm-11 1L8.5 8.5l.94-2.06 2.06-.94-2.06-.94L8.5 2.5l-.94 2.06-2.06.94zm10 10l.94 2.06.94-2.06 2.06-.94-2.06-.94-.94-2.06-.94 2.06-2.06.94z\"/><path d=\"M17.41 7.96l-1.37-1.37c-.4-.4-.92-.59-1.43-.59-.52 0-1.04.2-1.43.59L10.3 9.45l-7.72 7.72c-.78.78-.78 2.05 0 2.83L4 21.41c.39.39.9.59 1.41.59.51 0 1.02-.2 1.41-.59l7.78-7.78 2.81-2.81c.8-.78.8-2.07 0-2.86zM5.41 20L4 18.59l7.72-7.72 1.47 1.35L5.41 20z\"/>\n",
              "  </svg>\n",
              "      </button>\n",
              "      \n",
              "  <style>\n",
              "    .colab-df-container {\n",
              "      display:flex;\n",
              "      flex-wrap:wrap;\n",
              "      gap: 12px;\n",
              "    }\n",
              "\n",
              "    .colab-df-convert {\n",
              "      background-color: #E8F0FE;\n",
              "      border: none;\n",
              "      border-radius: 50%;\n",
              "      cursor: pointer;\n",
              "      display: none;\n",
              "      fill: #1967D2;\n",
              "      height: 32px;\n",
              "      padding: 0 0 0 0;\n",
              "      width: 32px;\n",
              "    }\n",
              "\n",
              "    .colab-df-convert:hover {\n",
              "      background-color: #E2EBFA;\n",
              "      box-shadow: 0px 1px 2px rgba(60, 64, 67, 0.3), 0px 1px 3px 1px rgba(60, 64, 67, 0.15);\n",
              "      fill: #174EA6;\n",
              "    }\n",
              "\n",
              "    [theme=dark] .colab-df-convert {\n",
              "      background-color: #3B4455;\n",
              "      fill: #D2E3FC;\n",
              "    }\n",
              "\n",
              "    [theme=dark] .colab-df-convert:hover {\n",
              "      background-color: #434B5C;\n",
              "      box-shadow: 0px 1px 3px 1px rgba(0, 0, 0, 0.15);\n",
              "      filter: drop-shadow(0px 1px 2px rgba(0, 0, 0, 0.3));\n",
              "      fill: #FFFFFF;\n",
              "    }\n",
              "  </style>\n",
              "\n",
              "      <script>\n",
              "        const buttonEl =\n",
              "          document.querySelector('#df-6f2c6c35-48a4-4fda-8600-964c28e20462 button.colab-df-convert');\n",
              "        buttonEl.style.display =\n",
              "          google.colab.kernel.accessAllowed ? 'block' : 'none';\n",
              "\n",
              "        async function convertToInteractive(key) {\n",
              "          const element = document.querySelector('#df-6f2c6c35-48a4-4fda-8600-964c28e20462');\n",
              "          const dataTable =\n",
              "            await google.colab.kernel.invokeFunction('convertToInteractive',\n",
              "                                                     [key], {});\n",
              "          if (!dataTable) return;\n",
              "\n",
              "          const docLinkHtml = 'Like what you see? Visit the ' +\n",
              "            '<a target=\"_blank\" href=https://colab.research.google.com/notebooks/data_table.ipynb>data table notebook</a>'\n",
              "            + ' to learn more about interactive tables.';\n",
              "          element.innerHTML = '';\n",
              "          dataTable['output_type'] = 'display_data';\n",
              "          await google.colab.output.renderOutput(dataTable, element);\n",
              "          const docLink = document.createElement('div');\n",
              "          docLink.innerHTML = docLinkHtml;\n",
              "          element.appendChild(docLink);\n",
              "        }\n",
              "      </script>\n",
              "    </div>\n",
              "  </div>\n",
              "  "
            ]
          },
          "metadata": {},
          "execution_count": 164
        }
      ]
    },
    {
      "cell_type": "markdown",
      "source": [
        "#Task 5 : Wordnet, uncommon wording and negative reviews "
      ],
      "metadata": {
        "id": "joRLvI_Q2SI8"
      }
    },
    {
      "cell_type": "code",
      "source": [
        "def wnet_check(data : list or str):\n",
        "  score = 0\n",
        "  if isinstance(data,str):\n",
        "    data = word_tokenize(data)\n",
        "  for words in data:\n",
        "    score += int(wn.synsets(words)==[])\n",
        "  return score"
      ],
      "metadata": {
        "id": "DrVWbGV042l_"
      },
      "execution_count": null,
      "outputs": []
    },
    {
      "cell_type": "code",
      "source": [
        "reviews_wnet = reviews_vader.drop(columns=['Hotel_Address', 'Hotel_Name', 'Negative_Review', 'Positive_Review','Neutral_Score'])\n",
        "reviews_wnet.head(3)"
      ],
      "metadata": {
        "id": "GbVJ_spL4S4I"
      },
      "execution_count": null,
      "outputs": []
    },
    {
      "cell_type": "code",
      "source": [
        "reviews_wnet['Misspelled_tokens'] = reviews_wnet['Total_Review'].map(wnet_check)\n",
        "reviews_wnet = reviews_wnet.drop(columns = ['Total_Review'])\n",
        "reviews_wnet.head(3)"
      ],
      "metadata": {
        "id": "Yt-KAT5o8t7E"
      },
      "execution_count": null,
      "outputs": []
    },
    {
      "cell_type": "code",
      "source": [
        "reviews_wnet.corr(method = 'pearson')"
      ],
      "metadata": {
        "colab": {
          "base_uri": "https://localhost:8080/",
          "height": 238
        },
        "id": "MaYjjyB5-3hM",
        "outputId": "852d6dab-8b02-4b8a-f89b-7360c5291df6"
      },
      "execution_count": null,
      "outputs": [
        {
          "output_type": "execute_result",
          "data": {
            "text/plain": [
              "                   Reviewer_Score  Negative_Score  Positive_Score  \\\n",
              "Reviewer_Score           1.000000       -0.286975        0.408533   \n",
              "Negative_Score          -0.286975        1.000000       -0.340340   \n",
              "Positive_Score           0.408533       -0.340340        1.000000   \n",
              "Compound_Score           0.454674       -0.583777        0.655223   \n",
              "Misspelled_tokens       -0.149182       -0.046445       -0.211345   \n",
              "Short_sentences         -0.022382        0.005418       -0.027002   \n",
              "\n",
              "                   Compound_Score  Misspelled_tokens  Short_sentences  \n",
              "Reviewer_Score           0.454674          -0.149182        -0.022382  \n",
              "Negative_Score          -0.583777          -0.046445         0.005418  \n",
              "Positive_Score           0.655223          -0.211345        -0.027002  \n",
              "Compound_Score           1.000000           0.143466         0.029507  \n",
              "Misspelled_tokens        0.143466           1.000000         0.169558  \n",
              "Short_sentences          0.029507           0.169558         1.000000  "
            ],
            "text/html": [
              "\n",
              "  <div id=\"df-003df207-84cb-49b4-bf73-c5b100a240d5\">\n",
              "    <div class=\"colab-df-container\">\n",
              "      <div>\n",
              "<style scoped>\n",
              "    .dataframe tbody tr th:only-of-type {\n",
              "        vertical-align: middle;\n",
              "    }\n",
              "\n",
              "    .dataframe tbody tr th {\n",
              "        vertical-align: top;\n",
              "    }\n",
              "\n",
              "    .dataframe thead th {\n",
              "        text-align: right;\n",
              "    }\n",
              "</style>\n",
              "<table border=\"1\" class=\"dataframe\">\n",
              "  <thead>\n",
              "    <tr style=\"text-align: right;\">\n",
              "      <th></th>\n",
              "      <th>Reviewer_Score</th>\n",
              "      <th>Negative_Score</th>\n",
              "      <th>Positive_Score</th>\n",
              "      <th>Compound_Score</th>\n",
              "      <th>Misspelled_tokens</th>\n",
              "      <th>Short_sentences</th>\n",
              "    </tr>\n",
              "  </thead>\n",
              "  <tbody>\n",
              "    <tr>\n",
              "      <th>Reviewer_Score</th>\n",
              "      <td>1.000000</td>\n",
              "      <td>-0.286975</td>\n",
              "      <td>0.408533</td>\n",
              "      <td>0.454674</td>\n",
              "      <td>-0.149182</td>\n",
              "      <td>-0.022382</td>\n",
              "    </tr>\n",
              "    <tr>\n",
              "      <th>Negative_Score</th>\n",
              "      <td>-0.286975</td>\n",
              "      <td>1.000000</td>\n",
              "      <td>-0.340340</td>\n",
              "      <td>-0.583777</td>\n",
              "      <td>-0.046445</td>\n",
              "      <td>0.005418</td>\n",
              "    </tr>\n",
              "    <tr>\n",
              "      <th>Positive_Score</th>\n",
              "      <td>0.408533</td>\n",
              "      <td>-0.340340</td>\n",
              "      <td>1.000000</td>\n",
              "      <td>0.655223</td>\n",
              "      <td>-0.211345</td>\n",
              "      <td>-0.027002</td>\n",
              "    </tr>\n",
              "    <tr>\n",
              "      <th>Compound_Score</th>\n",
              "      <td>0.454674</td>\n",
              "      <td>-0.583777</td>\n",
              "      <td>0.655223</td>\n",
              "      <td>1.000000</td>\n",
              "      <td>0.143466</td>\n",
              "      <td>0.029507</td>\n",
              "    </tr>\n",
              "    <tr>\n",
              "      <th>Misspelled_tokens</th>\n",
              "      <td>-0.149182</td>\n",
              "      <td>-0.046445</td>\n",
              "      <td>-0.211345</td>\n",
              "      <td>0.143466</td>\n",
              "      <td>1.000000</td>\n",
              "      <td>0.169558</td>\n",
              "    </tr>\n",
              "    <tr>\n",
              "      <th>Short_sentences</th>\n",
              "      <td>-0.022382</td>\n",
              "      <td>0.005418</td>\n",
              "      <td>-0.027002</td>\n",
              "      <td>0.029507</td>\n",
              "      <td>0.169558</td>\n",
              "      <td>1.000000</td>\n",
              "    </tr>\n",
              "  </tbody>\n",
              "</table>\n",
              "</div>\n",
              "      <button class=\"colab-df-convert\" onclick=\"convertToInteractive('df-003df207-84cb-49b4-bf73-c5b100a240d5')\"\n",
              "              title=\"Convert this dataframe to an interactive table.\"\n",
              "              style=\"display:none;\">\n",
              "        \n",
              "  <svg xmlns=\"http://www.w3.org/2000/svg\" height=\"24px\"viewBox=\"0 0 24 24\"\n",
              "       width=\"24px\">\n",
              "    <path d=\"M0 0h24v24H0V0z\" fill=\"none\"/>\n",
              "    <path d=\"M18.56 5.44l.94 2.06.94-2.06 2.06-.94-2.06-.94-.94-2.06-.94 2.06-2.06.94zm-11 1L8.5 8.5l.94-2.06 2.06-.94-2.06-.94L8.5 2.5l-.94 2.06-2.06.94zm10 10l.94 2.06.94-2.06 2.06-.94-2.06-.94-.94-2.06-.94 2.06-2.06.94z\"/><path d=\"M17.41 7.96l-1.37-1.37c-.4-.4-.92-.59-1.43-.59-.52 0-1.04.2-1.43.59L10.3 9.45l-7.72 7.72c-.78.78-.78 2.05 0 2.83L4 21.41c.39.39.9.59 1.41.59.51 0 1.02-.2 1.41-.59l7.78-7.78 2.81-2.81c.8-.78.8-2.07 0-2.86zM5.41 20L4 18.59l7.72-7.72 1.47 1.35L5.41 20z\"/>\n",
              "  </svg>\n",
              "      </button>\n",
              "      \n",
              "  <style>\n",
              "    .colab-df-container {\n",
              "      display:flex;\n",
              "      flex-wrap:wrap;\n",
              "      gap: 12px;\n",
              "    }\n",
              "\n",
              "    .colab-df-convert {\n",
              "      background-color: #E8F0FE;\n",
              "      border: none;\n",
              "      border-radius: 50%;\n",
              "      cursor: pointer;\n",
              "      display: none;\n",
              "      fill: #1967D2;\n",
              "      height: 32px;\n",
              "      padding: 0 0 0 0;\n",
              "      width: 32px;\n",
              "    }\n",
              "\n",
              "    .colab-df-convert:hover {\n",
              "      background-color: #E2EBFA;\n",
              "      box-shadow: 0px 1px 2px rgba(60, 64, 67, 0.3), 0px 1px 3px 1px rgba(60, 64, 67, 0.15);\n",
              "      fill: #174EA6;\n",
              "    }\n",
              "\n",
              "    [theme=dark] .colab-df-convert {\n",
              "      background-color: #3B4455;\n",
              "      fill: #D2E3FC;\n",
              "    }\n",
              "\n",
              "    [theme=dark] .colab-df-convert:hover {\n",
              "      background-color: #434B5C;\n",
              "      box-shadow: 0px 1px 3px 1px rgba(0, 0, 0, 0.15);\n",
              "      filter: drop-shadow(0px 1px 2px rgba(0, 0, 0, 0.3));\n",
              "      fill: #FFFFFF;\n",
              "    }\n",
              "  </style>\n",
              "\n",
              "      <script>\n",
              "        const buttonEl =\n",
              "          document.querySelector('#df-003df207-84cb-49b4-bf73-c5b100a240d5 button.colab-df-convert');\n",
              "        buttonEl.style.display =\n",
              "          google.colab.kernel.accessAllowed ? 'block' : 'none';\n",
              "\n",
              "        async function convertToInteractive(key) {\n",
              "          const element = document.querySelector('#df-003df207-84cb-49b4-bf73-c5b100a240d5');\n",
              "          const dataTable =\n",
              "            await google.colab.kernel.invokeFunction('convertToInteractive',\n",
              "                                                     [key], {});\n",
              "          if (!dataTable) return;\n",
              "\n",
              "          const docLinkHtml = 'Like what you see? Visit the ' +\n",
              "            '<a target=\"_blank\" href=https://colab.research.google.com/notebooks/data_table.ipynb>data table notebook</a>'\n",
              "            + ' to learn more about interactive tables.';\n",
              "          element.innerHTML = '';\n",
              "          dataTable['output_type'] = 'display_data';\n",
              "          await google.colab.output.renderOutput(dataTable, element);\n",
              "          const docLink = document.createElement('div');\n",
              "          docLink.innerHTML = docLinkHtml;\n",
              "          element.appendChild(docLink);\n",
              "        }\n",
              "      </script>\n",
              "    </div>\n",
              "  </div>\n",
              "  "
            ]
          },
          "metadata": {},
          "execution_count": 26
        }
      ]
    },
    {
      "cell_type": "markdown",
      "source": [
        "#Task 5' : Wordnet, uncommon wording and negative reviews, using scaled misspelling score"
      ],
      "metadata": {
        "id": "dtyRvogNEac0"
      }
    },
    {
      "cell_type": "code",
      "source": [
        "def wnet_check_2(data : list or str):\n",
        "  score = 0\n",
        "  if isinstance(data,str):\n",
        "    data = word_tokenize(data)\n",
        "  l = len(data)\n",
        "  if l == 0:\n",
        "    return 0\n",
        "  for words in data:\n",
        "    score += int(wn.synsets(words)==[])\n",
        "  return score/l\n",
        "\n",
        "def count_irregular_sentences(data: str):\n",
        "  score = 0\n",
        "  word_cnt = 0\n",
        "  for char in data:\n",
        "    if char.lower() != char:\n",
        "      if word_cnt<=4 or word_cnt >30:\n",
        "        score+=1\n",
        "      word_cnt = 0\n",
        "    elif char == \" \":\n",
        "      word_cnt+=1\n",
        "  return score"
      ],
      "metadata": {
        "id": "3qJkBFOPE5wK"
      },
      "execution_count": null,
      "outputs": []
    },
    {
      "cell_type": "code",
      "source": [
        "reviews_wnet_2 = reviews_vader.drop(columns=['Hotel_Address', 'Hotel_Name', 'Negative_Review', 'Positive_Review','Neutral_Score'])\n",
        "reviews_wnet_2['Misspelled_tokens'] = reviews_wnet_2['Total_Review'].map(wnet_check_2)\n",
        "reviews_wnet_2['Irregular_sentences'] = reviews_wnet_2['Total_Review'].map(count_irregular_sentences)\n",
        "reviews_wnet_2 = reviews_wnet_2.drop(columns = ['Total_Review'])\n",
        "reviews_wnet_2.corr(method = 'pearson')"
      ],
      "metadata": {
        "colab": {
          "base_uri": "https://localhost:8080/",
          "height": 238
        },
        "id": "oG3y57s7EmWS",
        "outputId": "e79bb9a1-5347-4788-b6c4-d1b9dbfaf86d"
      },
      "execution_count": null,
      "outputs": [
        {
          "output_type": "execute_result",
          "data": {
            "text/plain": [
              "                     Reviewer_Score  Negative_Score  Positive_Score  \\\n",
              "Reviewer_Score             1.000000       -0.286975        0.408533   \n",
              "Negative_Score            -0.286975        1.000000       -0.340340   \n",
              "Positive_Score             0.408533       -0.340340        1.000000   \n",
              "Compound_Score             0.454674       -0.583777        0.655223   \n",
              "Misspelled_tokens          0.009436       -0.153395       -0.250935   \n",
              "Irregular_sentences       -0.024200        0.005639       -0.028834   \n",
              "\n",
              "                     Compound_Score  Misspelled_tokens  Irregular_sentences  \n",
              "Reviewer_Score             0.454674           0.009436            -0.024200  \n",
              "Negative_Score            -0.583777          -0.153395             0.005639  \n",
              "Positive_Score             0.655223          -0.250935            -0.028834  \n",
              "Compound_Score             1.000000           0.023582             0.024169  \n",
              "Misspelled_tokens          0.023582           1.000000             0.027273  \n",
              "Irregular_sentences        0.024169           0.027273             1.000000  "
            ],
            "text/html": [
              "\n",
              "  <div id=\"df-1a327145-b344-4041-b3bb-b19d93b01557\">\n",
              "    <div class=\"colab-df-container\">\n",
              "      <div>\n",
              "<style scoped>\n",
              "    .dataframe tbody tr th:only-of-type {\n",
              "        vertical-align: middle;\n",
              "    }\n",
              "\n",
              "    .dataframe tbody tr th {\n",
              "        vertical-align: top;\n",
              "    }\n",
              "\n",
              "    .dataframe thead th {\n",
              "        text-align: right;\n",
              "    }\n",
              "</style>\n",
              "<table border=\"1\" class=\"dataframe\">\n",
              "  <thead>\n",
              "    <tr style=\"text-align: right;\">\n",
              "      <th></th>\n",
              "      <th>Reviewer_Score</th>\n",
              "      <th>Negative_Score</th>\n",
              "      <th>Positive_Score</th>\n",
              "      <th>Compound_Score</th>\n",
              "      <th>Misspelled_tokens</th>\n",
              "      <th>Irregular_sentences</th>\n",
              "    </tr>\n",
              "  </thead>\n",
              "  <tbody>\n",
              "    <tr>\n",
              "      <th>Reviewer_Score</th>\n",
              "      <td>1.000000</td>\n",
              "      <td>-0.286975</td>\n",
              "      <td>0.408533</td>\n",
              "      <td>0.454674</td>\n",
              "      <td>0.009436</td>\n",
              "      <td>-0.024200</td>\n",
              "    </tr>\n",
              "    <tr>\n",
              "      <th>Negative_Score</th>\n",
              "      <td>-0.286975</td>\n",
              "      <td>1.000000</td>\n",
              "      <td>-0.340340</td>\n",
              "      <td>-0.583777</td>\n",
              "      <td>-0.153395</td>\n",
              "      <td>0.005639</td>\n",
              "    </tr>\n",
              "    <tr>\n",
              "      <th>Positive_Score</th>\n",
              "      <td>0.408533</td>\n",
              "      <td>-0.340340</td>\n",
              "      <td>1.000000</td>\n",
              "      <td>0.655223</td>\n",
              "      <td>-0.250935</td>\n",
              "      <td>-0.028834</td>\n",
              "    </tr>\n",
              "    <tr>\n",
              "      <th>Compound_Score</th>\n",
              "      <td>0.454674</td>\n",
              "      <td>-0.583777</td>\n",
              "      <td>0.655223</td>\n",
              "      <td>1.000000</td>\n",
              "      <td>0.023582</td>\n",
              "      <td>0.024169</td>\n",
              "    </tr>\n",
              "    <tr>\n",
              "      <th>Misspelled_tokens</th>\n",
              "      <td>0.009436</td>\n",
              "      <td>-0.153395</td>\n",
              "      <td>-0.250935</td>\n",
              "      <td>0.023582</td>\n",
              "      <td>1.000000</td>\n",
              "      <td>0.027273</td>\n",
              "    </tr>\n",
              "    <tr>\n",
              "      <th>Irregular_sentences</th>\n",
              "      <td>-0.024200</td>\n",
              "      <td>0.005639</td>\n",
              "      <td>-0.028834</td>\n",
              "      <td>0.024169</td>\n",
              "      <td>0.027273</td>\n",
              "      <td>1.000000</td>\n",
              "    </tr>\n",
              "  </tbody>\n",
              "</table>\n",
              "</div>\n",
              "      <button class=\"colab-df-convert\" onclick=\"convertToInteractive('df-1a327145-b344-4041-b3bb-b19d93b01557')\"\n",
              "              title=\"Convert this dataframe to an interactive table.\"\n",
              "              style=\"display:none;\">\n",
              "        \n",
              "  <svg xmlns=\"http://www.w3.org/2000/svg\" height=\"24px\"viewBox=\"0 0 24 24\"\n",
              "       width=\"24px\">\n",
              "    <path d=\"M0 0h24v24H0V0z\" fill=\"none\"/>\n",
              "    <path d=\"M18.56 5.44l.94 2.06.94-2.06 2.06-.94-2.06-.94-.94-2.06-.94 2.06-2.06.94zm-11 1L8.5 8.5l.94-2.06 2.06-.94-2.06-.94L8.5 2.5l-.94 2.06-2.06.94zm10 10l.94 2.06.94-2.06 2.06-.94-2.06-.94-.94-2.06-.94 2.06-2.06.94z\"/><path d=\"M17.41 7.96l-1.37-1.37c-.4-.4-.92-.59-1.43-.59-.52 0-1.04.2-1.43.59L10.3 9.45l-7.72 7.72c-.78.78-.78 2.05 0 2.83L4 21.41c.39.39.9.59 1.41.59.51 0 1.02-.2 1.41-.59l7.78-7.78 2.81-2.81c.8-.78.8-2.07 0-2.86zM5.41 20L4 18.59l7.72-7.72 1.47 1.35L5.41 20z\"/>\n",
              "  </svg>\n",
              "      </button>\n",
              "      \n",
              "  <style>\n",
              "    .colab-df-container {\n",
              "      display:flex;\n",
              "      flex-wrap:wrap;\n",
              "      gap: 12px;\n",
              "    }\n",
              "\n",
              "    .colab-df-convert {\n",
              "      background-color: #E8F0FE;\n",
              "      border: none;\n",
              "      border-radius: 50%;\n",
              "      cursor: pointer;\n",
              "      display: none;\n",
              "      fill: #1967D2;\n",
              "      height: 32px;\n",
              "      padding: 0 0 0 0;\n",
              "      width: 32px;\n",
              "    }\n",
              "\n",
              "    .colab-df-convert:hover {\n",
              "      background-color: #E2EBFA;\n",
              "      box-shadow: 0px 1px 2px rgba(60, 64, 67, 0.3), 0px 1px 3px 1px rgba(60, 64, 67, 0.15);\n",
              "      fill: #174EA6;\n",
              "    }\n",
              "\n",
              "    [theme=dark] .colab-df-convert {\n",
              "      background-color: #3B4455;\n",
              "      fill: #D2E3FC;\n",
              "    }\n",
              "\n",
              "    [theme=dark] .colab-df-convert:hover {\n",
              "      background-color: #434B5C;\n",
              "      box-shadow: 0px 1px 3px 1px rgba(0, 0, 0, 0.15);\n",
              "      filter: drop-shadow(0px 1px 2px rgba(0, 0, 0, 0.3));\n",
              "      fill: #FFFFFF;\n",
              "    }\n",
              "  </style>\n",
              "\n",
              "      <script>\n",
              "        const buttonEl =\n",
              "          document.querySelector('#df-1a327145-b344-4041-b3bb-b19d93b01557 button.colab-df-convert');\n",
              "        buttonEl.style.display =\n",
              "          google.colab.kernel.accessAllowed ? 'block' : 'none';\n",
              "\n",
              "        async function convertToInteractive(key) {\n",
              "          const element = document.querySelector('#df-1a327145-b344-4041-b3bb-b19d93b01557');\n",
              "          const dataTable =\n",
              "            await google.colab.kernel.invokeFunction('convertToInteractive',\n",
              "                                                     [key], {});\n",
              "          if (!dataTable) return;\n",
              "\n",
              "          const docLinkHtml = 'Like what you see? Visit the ' +\n",
              "            '<a target=\"_blank\" href=https://colab.research.google.com/notebooks/data_table.ipynb>data table notebook</a>'\n",
              "            + ' to learn more about interactive tables.';\n",
              "          element.innerHTML = '';\n",
              "          dataTable['output_type'] = 'display_data';\n",
              "          await google.colab.output.renderOutput(dataTable, element);\n",
              "          const docLink = document.createElement('div');\n",
              "          docLink.innerHTML = docLinkHtml;\n",
              "          element.appendChild(docLink);\n",
              "        }\n",
              "      </script>\n",
              "    </div>\n",
              "  </div>\n",
              "  "
            ]
          },
          "metadata": {},
          "execution_count": 33
        }
      ]
    },
    {
      "cell_type": "markdown",
      "source": [
        "#Task 6 : Incoherent reviews"
      ],
      "metadata": {
        "id": "LtCSzjhc_nwA"
      }
    },
    {
      "cell_type": "code",
      "source": [
        "reviews_incoherent = reviews_vader.drop(columns=['Hotel_Address', 'Hotel_Name', 'Negative_Review','Total_Review' ,'Positive_Review','Negative_Score','Positive_Score','Neutral_Score'])\n",
        "reviews_incoherent.head(3)"
      ],
      "metadata": {
        "colab": {
          "base_uri": "https://localhost:8080/",
          "height": 143
        },
        "id": "VT4DeLMm_t9p",
        "outputId": "19086b70-4537-4442-ba06-ac8299b66d82"
      },
      "execution_count": null,
      "outputs": [
        {
          "output_type": "execute_result",
          "data": {
            "text/plain": [
              "   Reviewer_Score  Compound_Score\n",
              "0             2.9         -0.8589\n",
              "1             7.5          0.9494\n",
              "2             7.1          0.8402"
            ],
            "text/html": [
              "\n",
              "  <div id=\"df-5908a8bb-2c5e-4cbe-983d-690187689bdb\">\n",
              "    <div class=\"colab-df-container\">\n",
              "      <div>\n",
              "<style scoped>\n",
              "    .dataframe tbody tr th:only-of-type {\n",
              "        vertical-align: middle;\n",
              "    }\n",
              "\n",
              "    .dataframe tbody tr th {\n",
              "        vertical-align: top;\n",
              "    }\n",
              "\n",
              "    .dataframe thead th {\n",
              "        text-align: right;\n",
              "    }\n",
              "</style>\n",
              "<table border=\"1\" class=\"dataframe\">\n",
              "  <thead>\n",
              "    <tr style=\"text-align: right;\">\n",
              "      <th></th>\n",
              "      <th>Reviewer_Score</th>\n",
              "      <th>Compound_Score</th>\n",
              "    </tr>\n",
              "  </thead>\n",
              "  <tbody>\n",
              "    <tr>\n",
              "      <th>0</th>\n",
              "      <td>2.9</td>\n",
              "      <td>-0.8589</td>\n",
              "    </tr>\n",
              "    <tr>\n",
              "      <th>1</th>\n",
              "      <td>7.5</td>\n",
              "      <td>0.9494</td>\n",
              "    </tr>\n",
              "    <tr>\n",
              "      <th>2</th>\n",
              "      <td>7.1</td>\n",
              "      <td>0.8402</td>\n",
              "    </tr>\n",
              "  </tbody>\n",
              "</table>\n",
              "</div>\n",
              "      <button class=\"colab-df-convert\" onclick=\"convertToInteractive('df-5908a8bb-2c5e-4cbe-983d-690187689bdb')\"\n",
              "              title=\"Convert this dataframe to an interactive table.\"\n",
              "              style=\"display:none;\">\n",
              "        \n",
              "  <svg xmlns=\"http://www.w3.org/2000/svg\" height=\"24px\"viewBox=\"0 0 24 24\"\n",
              "       width=\"24px\">\n",
              "    <path d=\"M0 0h24v24H0V0z\" fill=\"none\"/>\n",
              "    <path d=\"M18.56 5.44l.94 2.06.94-2.06 2.06-.94-2.06-.94-.94-2.06-.94 2.06-2.06.94zm-11 1L8.5 8.5l.94-2.06 2.06-.94-2.06-.94L8.5 2.5l-.94 2.06-2.06.94zm10 10l.94 2.06.94-2.06 2.06-.94-2.06-.94-.94-2.06-.94 2.06-2.06.94z\"/><path d=\"M17.41 7.96l-1.37-1.37c-.4-.4-.92-.59-1.43-.59-.52 0-1.04.2-1.43.59L10.3 9.45l-7.72 7.72c-.78.78-.78 2.05 0 2.83L4 21.41c.39.39.9.59 1.41.59.51 0 1.02-.2 1.41-.59l7.78-7.78 2.81-2.81c.8-.78.8-2.07 0-2.86zM5.41 20L4 18.59l7.72-7.72 1.47 1.35L5.41 20z\"/>\n",
              "  </svg>\n",
              "      </button>\n",
              "      \n",
              "  <style>\n",
              "    .colab-df-container {\n",
              "      display:flex;\n",
              "      flex-wrap:wrap;\n",
              "      gap: 12px;\n",
              "    }\n",
              "\n",
              "    .colab-df-convert {\n",
              "      background-color: #E8F0FE;\n",
              "      border: none;\n",
              "      border-radius: 50%;\n",
              "      cursor: pointer;\n",
              "      display: none;\n",
              "      fill: #1967D2;\n",
              "      height: 32px;\n",
              "      padding: 0 0 0 0;\n",
              "      width: 32px;\n",
              "    }\n",
              "\n",
              "    .colab-df-convert:hover {\n",
              "      background-color: #E2EBFA;\n",
              "      box-shadow: 0px 1px 2px rgba(60, 64, 67, 0.3), 0px 1px 3px 1px rgba(60, 64, 67, 0.15);\n",
              "      fill: #174EA6;\n",
              "    }\n",
              "\n",
              "    [theme=dark] .colab-df-convert {\n",
              "      background-color: #3B4455;\n",
              "      fill: #D2E3FC;\n",
              "    }\n",
              "\n",
              "    [theme=dark] .colab-df-convert:hover {\n",
              "      background-color: #434B5C;\n",
              "      box-shadow: 0px 1px 3px 1px rgba(0, 0, 0, 0.15);\n",
              "      filter: drop-shadow(0px 1px 2px rgba(0, 0, 0, 0.3));\n",
              "      fill: #FFFFFF;\n",
              "    }\n",
              "  </style>\n",
              "\n",
              "      <script>\n",
              "        const buttonEl =\n",
              "          document.querySelector('#df-5908a8bb-2c5e-4cbe-983d-690187689bdb button.colab-df-convert');\n",
              "        buttonEl.style.display =\n",
              "          google.colab.kernel.accessAllowed ? 'block' : 'none';\n",
              "\n",
              "        async function convertToInteractive(key) {\n",
              "          const element = document.querySelector('#df-5908a8bb-2c5e-4cbe-983d-690187689bdb');\n",
              "          const dataTable =\n",
              "            await google.colab.kernel.invokeFunction('convertToInteractive',\n",
              "                                                     [key], {});\n",
              "          if (!dataTable) return;\n",
              "\n",
              "          const docLinkHtml = 'Like what you see? Visit the ' +\n",
              "            '<a target=\"_blank\" href=https://colab.research.google.com/notebooks/data_table.ipynb>data table notebook</a>'\n",
              "            + ' to learn more about interactive tables.';\n",
              "          element.innerHTML = '';\n",
              "          dataTable['output_type'] = 'display_data';\n",
              "          await google.colab.output.renderOutput(dataTable, element);\n",
              "          const docLink = document.createElement('div');\n",
              "          docLink.innerHTML = docLinkHtml;\n",
              "          element.appendChild(docLink);\n",
              "        }\n",
              "      </script>\n",
              "    </div>\n",
              "  </div>\n",
              "  "
            ]
          },
          "metadata": {},
          "execution_count": 16
        }
      ]
    },
    {
      "cell_type": "code",
      "source": [
        "reviews_incoherent = reviews_incoherent[((reviews_incoherent['Reviewer_Score']>5) & (reviews_incoherent['Compound_Score']<-0.2)) |((reviews_incoherent['Reviewer_Score']<5) & (reviews_incoherent['Compound_Score']>0.2))]\n",
        "reviews_incoherent.size"
      ],
      "metadata": {
        "colab": {
          "base_uri": "https://localhost:8080/"
        },
        "id": "INRTNfqRBIrm",
        "outputId": "b4baf180-84b9-478e-da8e-6a29c0820209"
      },
      "execution_count": null,
      "outputs": [
        {
          "output_type": "execute_result",
          "data": {
            "text/plain": [
              "98046"
            ]
          },
          "metadata": {},
          "execution_count": 17
        }
      ]
    },
    {
      "cell_type": "code",
      "source": [
        "reviews_incoherent.to_csv(\"/content/incoherent_reviews.csv\")"
      ],
      "metadata": {
        "id": "bIpwo58aHLYB"
      },
      "execution_count": null,
      "outputs": []
    },
    {
      "cell_type": "markdown",
      "source": [
        "#Task 6' : Incoherent reviews using negative sentiment\n"
      ],
      "metadata": {
        "id": "W2HyzGnyGR-a"
      }
    },
    {
      "cell_type": "code",
      "source": [
        "reviews_incoherent = reviews_vader.drop(columns=['Hotel_Address', 'Hotel_Name', 'Negative_Review','Total_Review' ,'Positive_Review','Compound_Score','Positive_Score','Neutral_Score'])\n",
        "reviews_incoherent.head(3)"
      ],
      "metadata": {
        "colab": {
          "base_uri": "https://localhost:8080/",
          "height": 143
        },
        "id": "kuPYe8eVCIc6",
        "outputId": "b5af6799-107b-4c95-fe8e-1610969b509c"
      },
      "execution_count": null,
      "outputs": [
        {
          "output_type": "execute_result",
          "data": {
            "text/plain": [
              "   Reviewer_Score  Negative_Score\n",
              "0             2.9           0.083\n",
              "1             7.5           0.058\n",
              "2             7.1           0.111"
            ],
            "text/html": [
              "\n",
              "  <div id=\"df-ee0be594-8699-4398-a7ae-5ccd7ca7a329\">\n",
              "    <div class=\"colab-df-container\">\n",
              "      <div>\n",
              "<style scoped>\n",
              "    .dataframe tbody tr th:only-of-type {\n",
              "        vertical-align: middle;\n",
              "    }\n",
              "\n",
              "    .dataframe tbody tr th {\n",
              "        vertical-align: top;\n",
              "    }\n",
              "\n",
              "    .dataframe thead th {\n",
              "        text-align: right;\n",
              "    }\n",
              "</style>\n",
              "<table border=\"1\" class=\"dataframe\">\n",
              "  <thead>\n",
              "    <tr style=\"text-align: right;\">\n",
              "      <th></th>\n",
              "      <th>Reviewer_Score</th>\n",
              "      <th>Negative_Score</th>\n",
              "    </tr>\n",
              "  </thead>\n",
              "  <tbody>\n",
              "    <tr>\n",
              "      <th>0</th>\n",
              "      <td>2.9</td>\n",
              "      <td>0.083</td>\n",
              "    </tr>\n",
              "    <tr>\n",
              "      <th>1</th>\n",
              "      <td>7.5</td>\n",
              "      <td>0.058</td>\n",
              "    </tr>\n",
              "    <tr>\n",
              "      <th>2</th>\n",
              "      <td>7.1</td>\n",
              "      <td>0.111</td>\n",
              "    </tr>\n",
              "  </tbody>\n",
              "</table>\n",
              "</div>\n",
              "      <button class=\"colab-df-convert\" onclick=\"convertToInteractive('df-ee0be594-8699-4398-a7ae-5ccd7ca7a329')\"\n",
              "              title=\"Convert this dataframe to an interactive table.\"\n",
              "              style=\"display:none;\">\n",
              "        \n",
              "  <svg xmlns=\"http://www.w3.org/2000/svg\" height=\"24px\"viewBox=\"0 0 24 24\"\n",
              "       width=\"24px\">\n",
              "    <path d=\"M0 0h24v24H0V0z\" fill=\"none\"/>\n",
              "    <path d=\"M18.56 5.44l.94 2.06.94-2.06 2.06-.94-2.06-.94-.94-2.06-.94 2.06-2.06.94zm-11 1L8.5 8.5l.94-2.06 2.06-.94-2.06-.94L8.5 2.5l-.94 2.06-2.06.94zm10 10l.94 2.06.94-2.06 2.06-.94-2.06-.94-.94-2.06-.94 2.06-2.06.94z\"/><path d=\"M17.41 7.96l-1.37-1.37c-.4-.4-.92-.59-1.43-.59-.52 0-1.04.2-1.43.59L10.3 9.45l-7.72 7.72c-.78.78-.78 2.05 0 2.83L4 21.41c.39.39.9.59 1.41.59.51 0 1.02-.2 1.41-.59l7.78-7.78 2.81-2.81c.8-.78.8-2.07 0-2.86zM5.41 20L4 18.59l7.72-7.72 1.47 1.35L5.41 20z\"/>\n",
              "  </svg>\n",
              "      </button>\n",
              "      \n",
              "  <style>\n",
              "    .colab-df-container {\n",
              "      display:flex;\n",
              "      flex-wrap:wrap;\n",
              "      gap: 12px;\n",
              "    }\n",
              "\n",
              "    .colab-df-convert {\n",
              "      background-color: #E8F0FE;\n",
              "      border: none;\n",
              "      border-radius: 50%;\n",
              "      cursor: pointer;\n",
              "      display: none;\n",
              "      fill: #1967D2;\n",
              "      height: 32px;\n",
              "      padding: 0 0 0 0;\n",
              "      width: 32px;\n",
              "    }\n",
              "\n",
              "    .colab-df-convert:hover {\n",
              "      background-color: #E2EBFA;\n",
              "      box-shadow: 0px 1px 2px rgba(60, 64, 67, 0.3), 0px 1px 3px 1px rgba(60, 64, 67, 0.15);\n",
              "      fill: #174EA6;\n",
              "    }\n",
              "\n",
              "    [theme=dark] .colab-df-convert {\n",
              "      background-color: #3B4455;\n",
              "      fill: #D2E3FC;\n",
              "    }\n",
              "\n",
              "    [theme=dark] .colab-df-convert:hover {\n",
              "      background-color: #434B5C;\n",
              "      box-shadow: 0px 1px 3px 1px rgba(0, 0, 0, 0.15);\n",
              "      filter: drop-shadow(0px 1px 2px rgba(0, 0, 0, 0.3));\n",
              "      fill: #FFFFFF;\n",
              "    }\n",
              "  </style>\n",
              "\n",
              "      <script>\n",
              "        const buttonEl =\n",
              "          document.querySelector('#df-ee0be594-8699-4398-a7ae-5ccd7ca7a329 button.colab-df-convert');\n",
              "        buttonEl.style.display =\n",
              "          google.colab.kernel.accessAllowed ? 'block' : 'none';\n",
              "\n",
              "        async function convertToInteractive(key) {\n",
              "          const element = document.querySelector('#df-ee0be594-8699-4398-a7ae-5ccd7ca7a329');\n",
              "          const dataTable =\n",
              "            await google.colab.kernel.invokeFunction('convertToInteractive',\n",
              "                                                     [key], {});\n",
              "          if (!dataTable) return;\n",
              "\n",
              "          const docLinkHtml = 'Like what you see? Visit the ' +\n",
              "            '<a target=\"_blank\" href=https://colab.research.google.com/notebooks/data_table.ipynb>data table notebook</a>'\n",
              "            + ' to learn more about interactive tables.';\n",
              "          element.innerHTML = '';\n",
              "          dataTable['output_type'] = 'display_data';\n",
              "          await google.colab.output.renderOutput(dataTable, element);\n",
              "          const docLink = document.createElement('div');\n",
              "          docLink.innerHTML = docLinkHtml;\n",
              "          element.appendChild(docLink);\n",
              "        }\n",
              "      </script>\n",
              "    </div>\n",
              "  </div>\n",
              "  "
            ]
          },
          "metadata": {},
          "execution_count": 72
        }
      ]
    },
    {
      "cell_type": "code",
      "source": [
        "reviews_incoherent = reviews_incoherent[((reviews_incoherent['Reviewer_Score']>5) & (reviews_incoherent['Negative_Score']>0.15)) |((reviews_incoherent['Reviewer_Score']<5) & (reviews_incoherent['Negative_Score']<0.15))]\n",
        "reviews_incoherent.size"
      ],
      "metadata": {
        "colab": {
          "base_uri": "https://localhost:8080/"
        },
        "id": "B_JYf-qEGjQm",
        "outputId": "f7453a71-193a-4550-bf11-752da8957030"
      },
      "execution_count": null,
      "outputs": [
        {
          "output_type": "execute_result",
          "data": {
            "text/plain": [
              "133048"
            ]
          },
          "metadata": {},
          "execution_count": 73
        }
      ]
    },
    {
      "cell_type": "code",
      "source": [
        "reviews_incoherent.to_csv(\"/content/incoherent_reviews.csv\")"
      ],
      "metadata": {
        "id": "5HlDwEekGweZ"
      },
      "execution_count": null,
      "outputs": []
    },
    {
      "cell_type": "markdown",
      "source": [
        "#Task 7 : Data representation"
      ],
      "metadata": {
        "id": "rbhBMfIiNBQC"
      }
    },
    {
      "cell_type": "code",
      "source": [
        "reviews_incoherent = reviews_vader.drop(columns=['Hotel_Address', 'Hotel_Name', 'Negative_Review' ,'Positive_Review','Compound_Score','Positive_Score','Neutral_Score'])\n",
        "reviews_incoherent = reviews_incoherent[((reviews_incoherent['Reviewer_Score']>5) & (reviews_incoherent['Negative_Score']>0.15)) |((reviews_incoherent['Reviewer_Score']<5) & (reviews_incoherent['Negative_Score']<0.15))]"
      ],
      "metadata": {
        "id": "H90WVRMhDWfk"
      },
      "execution_count": null,
      "outputs": []
    },
    {
      "cell_type": "code",
      "source": [
        "text = \"\"\n",
        "for _, row in reviews_incoherent.iterrows():\n",
        "  text+=row['Total_Review']\n",
        "wordcloud = WordCloud().generate(text)\n",
        "plt.imshow(wordcloud, interpolation='bilinear')\n",
        "plt.axis(\"off\")"
      ],
      "metadata": {
        "colab": {
          "base_uri": "https://localhost:8080/",
          "height": 215
        },
        "id": "jMpYmzfhHfOD",
        "outputId": "009f2440-3f12-4bd3-8377-308c1fe86bfc"
      },
      "execution_count": null,
      "outputs": [
        {
          "output_type": "execute_result",
          "data": {
            "text/plain": [
              "(-0.5, 399.5, 199.5, -0.5)"
            ]
          },
          "metadata": {},
          "execution_count": 75
        },
        {
          "output_type": "display_data",
          "data": {
            "text/plain": [
              "<Figure size 432x288 with 1 Axes>"
            ],
            "image/png": "[encoded data removed]"
          },
          "metadata": {
            "needs_background": "light"
          }
        }
      ]
    },
    {
      "cell_type": "markdown",
      "source": [
        "#Task 8 : Empath Categorization"
      ],
      "metadata": {
        "id": "lEGTfyGHJFqm"
      }
    },
    {
      "cell_type": "code",
      "source": [
        "from empath import Empath\n",
        "lexicon = Empath()"
      ],
      "metadata": {
        "id": "FvjgfPDwJTQY"
      },
      "execution_count": null,
      "outputs": []
    },
    {
      "cell_type": "code",
      "source": [
        "reviews_empath = reviews_incoherent\n",
        "reviews_empath.head(3)"
      ],
      "metadata": {
        "colab": {
          "base_uri": "https://localhost:8080/",
          "height": 143
        },
        "id": "vT24-wEtaaP6",
        "outputId": "34e6c7f8-e0a6-4ec7-f1c1-8080de294132"
      },
      "execution_count": null,
      "outputs": [
        {
          "output_type": "execute_result",
          "data": {
            "text/plain": [
              "   Reviewer_Score                                       Total_Review  \\\n",
              "0             2.9   I am so angry that i made this post available...   \n",
              "3             3.8   My room was dirty and I was afraid to walk ba...   \n",
              "6             4.6   Cleaner did not change our sheet and duvet ev...   \n",
              "\n",
              "   Negative_Score  \n",
              "0           0.083  \n",
              "3           0.099  \n",
              "6           0.000  "
            ],
            "text/html": [
              "\n",
              "  <div id=\"df-3c0c0426-02f6-4c05-90fb-883f6e0aacec\">\n",
              "    <div class=\"colab-df-container\">\n",
              "      <div>\n",
              "<style scoped>\n",
              "    .dataframe tbody tr th:only-of-type {\n",
              "        vertical-align: middle;\n",
              "    }\n",
              "\n",
              "    .dataframe tbody tr th {\n",
              "        vertical-align: top;\n",
              "    }\n",
              "\n",
              "    .dataframe thead th {\n",
              "        text-align: right;\n",
              "    }\n",
              "</style>\n",
              "<table border=\"1\" class=\"dataframe\">\n",
              "  <thead>\n",
              "    <tr style=\"text-align: right;\">\n",
              "      <th></th>\n",
              "      <th>Reviewer_Score</th>\n",
              "      <th>Total_Review</th>\n",
              "      <th>Negative_Score</th>\n",
              "    </tr>\n",
              "  </thead>\n",
              "  <tbody>\n",
              "    <tr>\n",
              "      <th>0</th>\n",
              "      <td>2.9</td>\n",
              "      <td>I am so angry that i made this post available...</td>\n",
              "      <td>0.083</td>\n",
              "    </tr>\n",
              "    <tr>\n",
              "      <th>3</th>\n",
              "      <td>3.8</td>\n",
              "      <td>My room was dirty and I was afraid to walk ba...</td>\n",
              "      <td>0.099</td>\n",
              "    </tr>\n",
              "    <tr>\n",
              "      <th>6</th>\n",
              "      <td>4.6</td>\n",
              "      <td>Cleaner did not change our sheet and duvet ev...</td>\n",
              "      <td>0.000</td>\n",
              "    </tr>\n",
              "  </tbody>\n",
              "</table>\n",
              "</div>\n",
              "      <button class=\"colab-df-convert\" onclick=\"convertToInteractive('df-3c0c0426-02f6-4c05-90fb-883f6e0aacec')\"\n",
              "              title=\"Convert this dataframe to an interactive table.\"\n",
              "              style=\"display:none;\">\n",
              "        \n",
              "  <svg xmlns=\"http://www.w3.org/2000/svg\" height=\"24px\"viewBox=\"0 0 24 24\"\n",
              "       width=\"24px\">\n",
              "    <path d=\"M0 0h24v24H0V0z\" fill=\"none\"/>\n",
              "    <path d=\"M18.56 5.44l.94 2.06.94-2.06 2.06-.94-2.06-.94-.94-2.06-.94 2.06-2.06.94zm-11 1L8.5 8.5l.94-2.06 2.06-.94-2.06-.94L8.5 2.5l-.94 2.06-2.06.94zm10 10l.94 2.06.94-2.06 2.06-.94-2.06-.94-.94-2.06-.94 2.06-2.06.94z\"/><path d=\"M17.41 7.96l-1.37-1.37c-.4-.4-.92-.59-1.43-.59-.52 0-1.04.2-1.43.59L10.3 9.45l-7.72 7.72c-.78.78-.78 2.05 0 2.83L4 21.41c.39.39.9.59 1.41.59.51 0 1.02-.2 1.41-.59l7.78-7.78 2.81-2.81c.8-.78.8-2.07 0-2.86zM5.41 20L4 18.59l7.72-7.72 1.47 1.35L5.41 20z\"/>\n",
              "  </svg>\n",
              "      </button>\n",
              "      \n",
              "  <style>\n",
              "    .colab-df-container {\n",
              "      display:flex;\n",
              "      flex-wrap:wrap;\n",
              "      gap: 12px;\n",
              "    }\n",
              "\n",
              "    .colab-df-convert {\n",
              "      background-color: #E8F0FE;\n",
              "      border: none;\n",
              "      border-radius: 50%;\n",
              "      cursor: pointer;\n",
              "      display: none;\n",
              "      fill: #1967D2;\n",
              "      height: 32px;\n",
              "      padding: 0 0 0 0;\n",
              "      width: 32px;\n",
              "    }\n",
              "\n",
              "    .colab-df-convert:hover {\n",
              "      background-color: #E2EBFA;\n",
              "      box-shadow: 0px 1px 2px rgba(60, 64, 67, 0.3), 0px 1px 3px 1px rgba(60, 64, 67, 0.15);\n",
              "      fill: #174EA6;\n",
              "    }\n",
              "\n",
              "    [theme=dark] .colab-df-convert {\n",
              "      background-color: #3B4455;\n",
              "      fill: #D2E3FC;\n",
              "    }\n",
              "\n",
              "    [theme=dark] .colab-df-convert:hover {\n",
              "      background-color: #434B5C;\n",
              "      box-shadow: 0px 1px 3px 1px rgba(0, 0, 0, 0.15);\n",
              "      filter: drop-shadow(0px 1px 2px rgba(0, 0, 0, 0.3));\n",
              "      fill: #FFFFFF;\n",
              "    }\n",
              "  </style>\n",
              "\n",
              "      <script>\n",
              "        const buttonEl =\n",
              "          document.querySelector('#df-3c0c0426-02f6-4c05-90fb-883f6e0aacec button.colab-df-convert');\n",
              "        buttonEl.style.display =\n",
              "          google.colab.kernel.accessAllowed ? 'block' : 'none';\n",
              "\n",
              "        async function convertToInteractive(key) {\n",
              "          const element = document.querySelector('#df-3c0c0426-02f6-4c05-90fb-883f6e0aacec');\n",
              "          const dataTable =\n",
              "            await google.colab.kernel.invokeFunction('convertToInteractive',\n",
              "                                                     [key], {});\n",
              "          if (!dataTable) return;\n",
              "\n",
              "          const docLinkHtml = 'Like what you see? Visit the ' +\n",
              "            '<a target=\"_blank\" href=https://colab.research.google.com/notebooks/data_table.ipynb>data table notebook</a>'\n",
              "            + ' to learn more about interactive tables.';\n",
              "          element.innerHTML = '';\n",
              "          dataTable['output_type'] = 'display_data';\n",
              "          await google.colab.output.renderOutput(dataTable, element);\n",
              "          const docLink = document.createElement('div');\n",
              "          docLink.innerHTML = docLinkHtml;\n",
              "          element.appendChild(docLink);\n",
              "        }\n",
              "      </script>\n",
              "    </div>\n",
              "  </div>\n",
              "  "
            ]
          },
          "metadata": {},
          "execution_count": 77
        }
      ]
    },
    {
      "cell_type": "code",
      "source": [
        "def output_empath_short(text : str):\n",
        "  short_categories = {}\n",
        "  categories = lexicon.analyze(text,normalize = True)\n",
        "  for cat in categories : \n",
        "    if categories[cat] >0:\n",
        "      short_categories[cat] = categories[cat]\n",
        "  return short_categories\n",
        "\n",
        "def output_empath(text : str):\n",
        "  return lexicon.analyze(text,normalize = True)\n",
        "\n",
        "def summarize_empath(dict_list : list):\n",
        "  dict1 = {}\n",
        "  s=0\n",
        "  for cat in dict_list[0]:\n",
        "    s=0\n",
        "    for categories in dict_list:\n",
        "        s+= categories[cat]\n",
        "    dict1[cat] = s\n",
        "  return dict1"
      ],
      "metadata": {
        "id": "z6pBTDsCbJSu"
      },
      "execution_count": null,
      "outputs": []
    },
    {
      "cell_type": "code",
      "source": [
        "output_empath_short(\"event at the office\")"
      ],
      "metadata": {
        "colab": {
          "base_uri": "https://localhost:8080/"
        },
        "id": "CJ0-QlMrcGCl",
        "outputId": "a50d5d20-72f7-4106-d7ac-10b531552489"
      },
      "execution_count": null,
      "outputs": [
        {
          "output_type": "execute_result",
          "data": {
            "text/plain": [
              "{'office': 0.25,\n",
              " 'occupation': 0.25,\n",
              " 'furniture': 0.25,\n",
              " 'college': 0.25,\n",
              " 'business': 0.25,\n",
              " 'celebration': 0.25,\n",
              " 'meeting': 0.5,\n",
              " 'work': 0.25,\n",
              " 'white_collar_job': 0.25,\n",
              " 'party': 0.25}"
            ]
          },
          "metadata": {},
          "execution_count": 79
        }
      ]
    },
    {
      "cell_type": "code",
      "source": [
        "reviews_empath[\"Empath\"] = reviews_empath[\"Total_Review\"].map(output_empath)"
      ],
      "metadata": {
        "id": "qvRkZA3aauzl"
      },
      "execution_count": null,
      "outputs": []
    },
    {
      "cell_type": "code",
      "source": [
        "col = reviews_empath[\"Empath\"].tolist()\n",
        "summary = summarize_empath(col)"
      ],
      "metadata": {
        "id": "gWMdWpSnho9L"
      },
      "execution_count": null,
      "outputs": []
    },
    {
      "cell_type": "code",
      "source": [
        "sorted(summary.items(), key=lambda item: item[1],reverse = True)[:10]"
      ],
      "metadata": {
        "id": "21ag-t9KkZOz"
      },
      "execution_count": null,
      "outputs": []
    },
    {
      "cell_type": "markdown",
      "source": [
        "#Task 9 : Topic modelling\n"
      ],
      "metadata": {
        "id": "5eQWo-u9C2pg"
      }
    },
    {
      "cell_type": "code",
      "source": [
        "stops = set(stopwords.words('english'))\n",
        "stemmer = PorterStemmer()\n",
        "\n",
        "def token_cleaner(tokens : list) -> list:\n",
        "  #tokens must be a list of lowercase tokenized words\n",
        "  tokens_cleaned = []\n",
        "\n",
        "  for token in tokens:\n",
        "    if token not in stops:\n",
        "      tokens_cleaned.append(token)\n",
        "  \n",
        "\n",
        "  for i,word in enumerate(tokens_cleaned):\n",
        "    tokens_cleaned[i] = stemmer.stem(word)\n",
        "  return tokens_cleaned"
      ],
      "metadata": {
        "id": "Y8KZ2R6WUdiE"
      },
      "execution_count": null,
      "outputs": []
    },
    {
      "cell_type": "code",
      "source": [
        "corpus = []\n",
        "for _, row in reviews_vader.iterrows():\n",
        "  review = row['Total_Review']\n",
        "  review = review.lower()\n",
        "  review = word_tokenize(review)\n",
        "  review = token_cleaner(review)\n",
        "  corpus.append(review)"
      ],
      "metadata": {
        "id": "U81hwC2Zx3Qj"
      },
      "execution_count": null,
      "outputs": []
    },
    {
      "cell_type": "code",
      "source": [
        "corpus_dict = Dictionary(corpus)\n",
        "corpus = [corpus_dict.doc2bow(text) for text in corpus]"
      ],
      "metadata": {
        "id": "k1z976Tnp5Y0"
      },
      "execution_count": null,
      "outputs": []
    },
    {
      "cell_type": "code",
      "source": [
        "lda = LdaModel(corpus,id2word = corpus_dict,num_topics=10)"
      ],
      "metadata": {
        "id": "I1Ejj4B9ypVz"
      },
      "execution_count": null,
      "outputs": []
    },
    {
      "cell_type": "code",
      "source": [
        "topics = lda.print_topics(num_words=10)\n",
        "for topic in topics:\n",
        "    print(topic)"
      ],
      "metadata": {
        "colab": {
          "base_uri": "https://localhost:8080/"
        },
        "id": "0y2gi6Yn4M14",
        "outputId": "b2a00e19-166d-4b06-d2a8-b6f0210632e5"
      },
      "execution_count": null,
      "outputs": [
        {
          "output_type": "stream",
          "name": "stdout",
          "text": [
            "(0, '0.097*\"staff\" + 0.084*\"room\" + 0.070*\"locat\" + 0.050*\"friendli\" + 0.050*\"good\" + 0.046*\"breakfast\" + 0.044*\"clean\" + 0.042*\"help\" + 0.038*\"comfort\" + 0.037*\"bed\"')\n",
            "(1, '0.054*\"coffe\" + 0.044*\"room\" + 0.036*\"star\" + 0.034*\"tea\" + 0.027*\"4\" + 0.024*\"free\" + 0.021*\"water\" + 0.020*\"5\" + 0.018*\"facil\" + 0.014*\"bottl\"')\n",
            "(2, '0.039*\"room\" + 0.033*\"book\" + 0.029*\"hotel\" + 0.029*\"park\" + 0.027*\"price\" + 0.023*\"money\" + 0.023*\"pay\" + 0.023*\"charg\" + 0.022*\"breakfast\" + 0.020*\"wifi\"')\n",
            "(3, '0.033*\"check\" + 0.027*\"staff\" + 0.020*\"us\" + 0.019*\"room\" + 0.019*\"recept\" + 0.016*\"ask\" + 0.015*\"time\" + 0.014*\"day\" + 0.012*\"arriv\" + 0.011*\"desk\"')\n",
            "(4, '0.088*\"room\" + 0.032*\"bed\" + 0.021*\"bathroom\" + 0.018*\"shower\" + 0.015*\"small\" + 0.014*\"locat\" + 0.012*\"work\" + 0.012*\"air\" + 0.012*\"window\" + 0.011*\"floor\"')\n",
            "(5, '0.053*\"hotel\" + 0.034*\"pool\" + 0.032*\"room\" + 0.029*\"old\" + 0.028*\"nice\" + 0.024*\"locat\" + 0.020*\"area\" + 0.019*\"spa\" + 0.018*\"design\" + 0.017*\"tram\"')\n",
            "(6, '0.098*\"breakfast\" + 0.036*\"good\" + 0.029*\"bar\" + 0.029*\"food\" + 0.025*\"restaur\" + 0.019*\"servic\" + 0.017*\"choic\" + 0.013*\"buffet\" + 0.012*\"excel\" + 0.011*\"drink\"')\n",
            "(7, '0.047*\"hotel\" + 0.032*\"stay\" + 0.018*\"would\" + 0.017*\"room\" + 0.013*\"one\" + 0.012*\"time\" + 0.011*\"us\" + 0.011*\"like\" + 0.009*\"milan\" + 0.009*\"realli\"')\n",
            "(8, '0.068*\"staff\" + 0.047*\"hotel\" + 0.045*\"everyth\" + 0.042*\"great\" + 0.041*\"locat\" + 0.040*\"noth\" + 0.030*\"love\" + 0.027*\"help\" + 0.025*\"stay\" + 0.025*\"amaz\"')\n",
            "(9, '0.041*\"station\" + 0.040*\"walk\" + 0.035*\"hotel\" + 0.035*\"close\" + 0.033*\"locat\" + 0.029*\"metro\" + 0.024*\"citi\" + 0.022*\"good\" + 0.018*\"minut\" + 0.017*\"near\"')\n"
          ]
        }
      ]
    },
    {
      "cell_type": "code",
      "source": [
        "def topic_cloud(topics,n):\n",
        "  topic_words = dict(topics[n][1])\n",
        "  wc = WordCloud(max_words=20).generate_from_frequencies(topic_words, max_font_size=300)\n",
        "  plt.imshow(wc, interpolation='bilinear')\n",
        "  plt.axis(\"off\")\n",
        "\n",
        "topics = lda.show_topics(num_words = 20,formatted = False)"
      ],
      "metadata": {
        "id": "LwGK98_JRGYF"
      },
      "execution_count": null,
      "outputs": []
    },
    {
      "cell_type": "code",
      "source": [
        "topic_cloud(topics,1)"
      ],
      "metadata": {
        "colab": {
          "base_uri": "https://localhost:8080/",
          "height": 198
        },
        "id": "NGrxyuXyS_yJ",
        "outputId": "fb6fe36c-7947-49f4-d37b-6bc449da102c"
      },
      "execution_count": null,
      "outputs": [
        {
          "output_type": "display_data",
          "data": {
            "text/plain": [
              "<Figure size 432x288 with 1 Axes>"
            ],
            "image/png": "[encoded data removed]"
          },
          "metadata": {
            "needs_background": "light"
          }
        }
      ]
    },
    {
      "cell_type": "code",
      "source": [
        "topic_cloud(topics,2)"
      ],
      "metadata": {
        "colab": {
          "base_uri": "https://localhost:8080/",
          "height": 198
        },
        "id": "XqtnugDrTHXT",
        "outputId": "f1f5b46d-65e6-4687-852c-6821f87cd58b"
      },
      "execution_count": null,
      "outputs": [
        {
          "output_type": "display_data",
          "data": {
            "text/plain": [
              "<Figure size 432x288 with 1 Axes>"
            ],
            "image/png": "[encoded data removed]"
          },
          "metadata": {
            "needs_background": "light"
          }
        }
      ]
    },
    {
      "cell_type": "code",
      "source": [
        "topic_cloud(topics,3)"
      ],
      "metadata": {
        "colab": {
          "base_uri": "https://localhost:8080/",
          "height": 198
        },
        "id": "uD06Vz5cTJTL",
        "outputId": "10190340-c5d3-495c-ebe8-619b85e439a6"
      },
      "execution_count": null,
      "outputs": [
        {
          "output_type": "display_data",
          "data": {
            "text/plain": [
              "<Figure size 432x288 with 1 Axes>"
            ],
            "image/png": "[encoded data removed]"
          },
          "metadata": {
            "needs_background": "light"
          }
        }
      ]
    },
    {
      "cell_type": "markdown",
      "source": [
        "# Task 10 : Readability index of reviews"
      ],
      "metadata": {
        "id": "qxvkPMjGWo8R"
      }
    },
    {
      "cell_type": "code",
      "source": [
        "# Incoherent reviews\n",
        "reviews_incoherent = reviews_vader.drop(columns=['Hotel_Address', 'Hotel_Name', 'Negative_Review' ,'Positive_Review','Negative_Score','Positive_Score','Neutral_Score'])\n",
        "reviews_incoherent = reviews_incoherent[((reviews_incoherent['Reviewer_Score']>5) & (reviews_incoherent['Compound_Score']<-0.05)) |((reviews_incoherent['Reviewer_Score']<5) & (reviews_incoherent['Compound_Score']>0.05))]\n",
        "\n",
        "reviews_incoherent['readability_index'] = reviews_incoherent['Total_Review'].apply(lambda x: textstat.automated_readability_index(x))\n",
        "\n",
        "avg_readability_index = np.mean(reviews_incoherent['readability_index'])\n",
        "median_readability_index = np.median(reviews_incoherent['readability_index'])\n",
        "max_readability_index = np.max(reviews_incoherent['readability_index'])\n",
        "min_readability_index = np.min(reviews_incoherent['readability_index'])\n",
        "std_readability_index = np.std(reviews_incoherent['readability_index'])\n",
        "\n",
        "print(f'Readability index mean: {avg_readability_index}\\n'\n",
        "      f'Readability index median: {median_readability_index}\\n'\n",
        "      f'Readability index standard deviation: {std_readability_index}\\n'\n",
        "      f'Readability index maximum: {max_readability_index}\\n'\n",
        "      f'Readability index minimum: {min_readability_index}')"
      ],
      "metadata": {
        "id": "mqiMcqtps-k2"
      },
      "execution_count": null,
      "outputs": []
    },
    {
      "cell_type": "code",
      "source": [
        "# Coherent reviews\n",
        "reviews_coherent = reviews_vader.drop(columns=['Hotel_Address', 'Hotel_Name', 'Negative_Review' ,'Positive_Review','Negative_Score','Positive_Score','Neutral_Score'])\n",
        "reviews_coherent = reviews_coherent[((reviews_coherent['Reviewer_Score']>=5) & (reviews_coherent['Compound_Score']>=-0.05)) |((reviews_coherent['Reviewer_Score']<=5) & (reviews_coherent['Compound_Score']<=0.05))]\n",
        "\n",
        "reviews_coherent['readability_index'] = reviews_coherent['Total_Review'].apply(lambda x: textstat.automated_readability_index(x))\n",
        "\n",
        "avg_readability_index = np.mean(reviews_coherent['readability_index'])\n",
        "median_readability_index = np.median(reviews_coherent['readability_index'])\n",
        "max_readability_index = np.max(reviews_coherent['readability_index'])\n",
        "min_readability_index = np.min(reviews_coherent['readability_index'])\n",
        "std_readability_index = np.std(reviews_coherent['readability_index'])\n",
        "\n",
        "print(f'Readability index mean: {avg_readability_index}\\n'\n",
        "      f'Readability index median: {median_readability_index}\\n'\n",
        "      f'Readability index standard deviation: {std_readability_index}\\n'\n",
        "      f'Readability index maximum: {max_readability_index}\\n'\n",
        "      f'Readability index minimum: {min_readability_index}')"
      ],
      "metadata": {
        "id": "9_81hBVOtIJd"
      },
      "execution_count": null,
      "outputs": []
    },
    {
      "cell_type": "code",
      "source": [
        "from textstat import char_count\n",
        "\n",
        "def automated_readability_index(text):\n",
        "    words = len(word_tokenize(text))\n",
        "    if words == 0:\n",
        "        return 0\n",
        "    characters = char_count(text)\n",
        "    sentences = calculate_sentences(text)\n",
        "    return 4.71 * (characters / words) + 0.5 * (words / sentences) - 21.43\n",
        "\n",
        "def calculate_sentences(text):\n",
        "    if len(text) == 0:\n",
        "        return 0\n",
        "    sentence_count = 1\n",
        "    tokens = word_tokenize(text)\n",
        "    for token in tokens[1:]:\n",
        "        if token[0].isupper() and token[1:].islower():\n",
        "            sentence_count += 1\n",
        "    return sentence_count"
      ],
      "metadata": {
        "id": "ZAe-3ljjwnJQ"
      },
      "execution_count": null,
      "outputs": []
    },
    {
      "cell_type": "code",
      "source": [
        "reviews_incoherent['automated_readability_index'] = reviews_incoherent['Total_Review'].apply(lambda x: automated_readability_index(x))\n",
        "reviews_coherent['automated_readability_index'] = reviews_coherent['Total_Review'].apply(lambda x: automated_readability_index(x))"
      ],
      "metadata": {
        "id": "Cs13KWWZwsSt"
      },
      "execution_count": null,
      "outputs": []
    },
    {
      "cell_type": "code",
      "source": [
        "avg_readability_index = np.mean(reviews_incoherent['automated_readability_index'])\n",
        "median_readability_index = np.median(reviews_incoherent['automated_readability_index'])\n",
        "max_readability_index = np.max(reviews_incoherent['automated_readability_index'])\n",
        "min_readability_index = np.min(reviews_incoherent['automated_readability_index'])\n",
        "std_readability_index = np.std(reviews_incoherent['automated_readability_index'])\n",
        "print(f'Readability index mean: {avg_readability_index}\\n'\n",
        "      f'Readability index median: {median_readability_index}\\n'\n",
        "      f'Readability index standard deviation: {std_readability_index}\\n'\n",
        "      f'Readability index maximum: {max_readability_index}\\n'\n",
        "      f'Readability index minimum: {min_readability_index}')"
      ],
      "metadata": {
        "id": "k929Imb9wtPh"
      },
      "execution_count": null,
      "outputs": []
    },
    {
      "cell_type": "code",
      "source": [
        "avg_readability_index = np.mean(reviews_coherent['automated_readability_index'])\n",
        "median_readability_index = np.median(reviews_coherent['automated_readability_index'])\n",
        "max_readability_index = np.max(reviews_coherent['automated_readability_index'])\n",
        "min_readability_index = np.min(reviews_coherent['automated_readability_index'])\n",
        "std_readability_index = np.std(reviews_coherent['automated_readability_index'])\n",
        "print(f'Readability index mean: {avg_readability_index}\\n'\n",
        "      f'Readability index median: {median_readability_index}\\n'\n",
        "      f'Readability index standard deviation: {std_readability_index}\\n'\n",
        "      f'Readability index maximum: {max_readability_index}\\n'\n",
        "      f'Readability index minimum: {min_readability_index}')"
      ],
      "metadata": {
        "id": "RNeaT9RXwwNG"
      },
      "execution_count": null,
      "outputs": []
    },
    {
      "cell_type": "markdown",
      "source": [
        "#Task 1: with Textblob"
      ],
      "metadata": {
        "id": "y6CB4bU9WsjL"
      }
    },
    {
      "cell_type": "code",
      "source": [
        "<from textblob import TextBlob\n",
        "\n",
        "blob = TextBlob(text)\n",
        "\n",
        "for sentence in blob.sentences:\n",
        "    print(sentence.sentiment.polarity)\n",
        "  \n",
        "#Create a function to get the polarity\n",
        "def getPolarity(text):\n",
        "   return TextBlob(text).sentiment.polarity\n",
        "\n",
        "def aggregate_review(neg_review : str,pos_review :str) -> str:\n",
        "  if neg_review == \"No Negative\":\n",
        "    neg_review = \"\"\n",
        "  if pos_review == \"No Positive\":\n",
        "    pos_review = \"\"\n",
        "  agg_review = f\"{neg_review} {pos_review}\"\n",
        "  return agg_review\n",
        "\n",
        "\n",
        "def blob_score(review: str) -> str:\n",
        "  polarity = getPolarity(review) #Sentiment analysis\n",
        "  return polarity\n",
        "\n",
        "\n",
        "\n",
        "dataset_path = \"Hotel_Reviews.csv\"\n",
        "\n",
        "reviews = pd.read_csv(dataset_path, sep=',')\n",
        "reviews.head(3)\n",
        "reviews.axes\n",
        "\n",
        "reviews_blob = reviews.drop(columns = ['Additional_Number_of_Scoring', 'Review_Date',\n",
        "        'Reviewer_Nationality','Average_Score',\n",
        "        'Review_Total_Negative_Word_Counts',\n",
        "        'Total_Number_of_Reviews',\n",
        "        'Review_Total_Positive_Word_Counts',\n",
        "        'Total_Number_of_Reviews_Reviewer_Has_Given', 'Tags',\n",
        "        'days_since_review', 'lat', 'lng'])\n",
        "\n",
        "reviews_blob['Total_Review'] = reviews_blob.apply(lambda x : aggregate_review(x['Negative_Review'],x['Positive_Review']),axis =1)\n",
        "\n",
        "print(reviews_blob.head(1))\n",
        "\n",
        "\n",
        "\n",
        "reviews_blob['blob_score']= reviews_blob['Total_Review'].map(lambda x: blob_score(x))\n",
        "\n",
        "reviews_blob_cut = reviews_blob.drop(columns=['Hotel_Address', 'Hotel_Name', 'Negative_Review', 'Positive_Review',\n",
        "         'Total_Review', 'Reviewer_Score'])\n",
        "\n",
        "reviews_blob['Negative_Score'] = reviews_blob_cut[reviews_blob_cut['blob_score'] < -0.1]\n",
        "reviews_blob['Neutral_Score'] = reviews_blob_cut[(reviews_blob_cut['blob_score'] < 0.1) & (reviews_blob['blob_score'] > -0.1)]\n",
        "reviews_blob['Positive_Score'] = reviews_blob_cut[reviews_blob_cut['blob_score'] > 0.1]\n",
        "\n",
        "\n",
        "\n",
        "print(reviews_blob.head(10))"
      ],
      "metadata": {
        "id": "Qz_0vafZYK13"
      },
      "execution_count": null,
      "outputs": []
    },
    {
      "cell_type": "markdown",
      "source": [
        "#Task 2: with Textblob"
      ],
      "metadata": {
        "id": "8U4EtZEIX-sf"
      }
    },
    {
      "cell_type": "code",
      "source": [
        "reviews_correlation = reviews_blob.drop(columns=['Hotel_Address', 'Hotel_Name', 'Negative_Review', 'Positive_Review',\n",
        "         'Total_Review'])\n",
        "\n",
        "reviews_correlation.head(10)\n",
        "\n",
        "done_reviews_correlation = reviews_correlation.corr(method = 'pearson')\n",
        "\n",
        "done_reviews_correlation.head(10)"
      ],
      "metadata": {
        "id": "Op3NC_e4YR5d"
      },
      "execution_count": null,
      "outputs": []
    },
    {
      "cell_type": "markdown",
      "source": [
        "#Task 3 and 4: with Textblob"
      ],
      "metadata": {
        "id": "HQyxoX1t1VNj"
      }
    },
    {
      "cell_type": "code",
      "source": [
        "reviews_blob.head(3)\n",
        "reviews_tokencnt = reviews_blob.drop(columns=['Hotel_Address', 'Hotel_Name', 'Negative_Review', 'Positive_Review','Negative_Score','Positive_Score','Neutral_Score'])\n",
        "reviews_tokencnt.head(3)\n",
        "reviews_tokencnt['Token_Count'] = reviews_tokencnt['Total_Review'].map(lambda x: len(word_tokenize(x)))\n",
        "\n",
        "reviews_tokencnt = reviews_tokencnt.drop(columns=[\"Total_Review\"])\n",
        "reviews_tokencnt.head(3)\n",
        "done_reviews_tokencnt = reviews_tokencnt.corr(method = 'pearson')\n",
        "\n",
        "done_reviews_tokencnt.head(3)"
      ],
      "metadata": {
        "id": "WE61InHFZFNq"
      },
      "execution_count": null,
      "outputs": []
    },
    {
      "cell_type": "markdown",
      "source": [
        "# Task 5: with Textblob"
      ],
      "metadata": {
        "id": "3EYIEil4Y0x3"
      }
    },
    {
      "cell_type": "code",
      "source": [
        "def wnet_check(data : list or str):\n",
        "  score = 0\n",
        "  if isinstance(data,str):\n",
        "    data = word_tokenize(data)\n",
        "  for words in data:\n",
        "    score += int(wn.synsets(words)==[])\n",
        "  return score\n",
        "\n",
        "reviews_wnet = reviews_blob.drop(columns=['Hotel_Address', 'Hotel_Name', 'Negative_Review', 'Positive_Review','Neutral_Score'])\n",
        "reviews_wnet.head(3)\n",
        "\n",
        "reviews_wnet['Misspelled_tokens'] = reviews_wnet['Total_Review'].map(wnet_check)\n",
        "\n",
        "reviews_wnet = reviews_wnet.drop(columns = ['Total_Review'])\n",
        "\n",
        "reviews_wnet.head(3)\n",
        "\n",
        "done_reviews_wnet = reviews_wnet.corr(method = 'pearson')\n",
        "\n",
        "done_reviews_wnet.head(3)"
      ],
      "metadata": {
        "id": "4H4cAkprZUGK"
      },
      "execution_count": null,
      "outputs": []
    },
    {
      "cell_type": "markdown",
      "source": [
        "#Task 5': with Textblob"
      ],
      "metadata": {
        "id": "_5SswrhAZRBI"
      }
    },
    {
      "cell_type": "code",
      "source": [
        "def wnet_check_2(data : list or str):\n",
        "  score = 0\n",
        "  if isinstance(data,str):\n",
        "    data = word_tokenize(data)\n",
        "  l = len(data)\n",
        "  if l == 0:\n",
        "    return 0\n",
        "  for words in data:\n",
        "    score += int(wn.synsets(words)==[])\n",
        "  return score/l\n",
        "\n",
        "reviews_wnet_2 = reviews_blob.drop(columns=['Hotel_Address', 'Hotel_Name', 'Negative_Review', 'Positive_Review','Neutral_Score'])\n",
        "reviews_wnet_2['Misspelled_tokens'] = reviews_wnet_2['Total_Review'].map(wnet_check_2)\n",
        "reviews_wnet_2 = reviews_wnet_2.drop(columns = ['Total_Review'])\n",
        "\n",
        "done_reviews_wnet_2 = reviews_wnet_2.corr(method = 'pearson')\n",
        "done_reviews_wnet_2.head(3)"
      ],
      "metadata": {
        "id": "OGjEzROvZnav"
      },
      "execution_count": null,
      "outputs": []
    },
    {
      "cell_type": "markdown",
      "source": [
        "#Task 6: with Textblob"
      ],
      "metadata": {
        "id": "q5m4m7wtZhdj"
      }
    },
    {
      "cell_type": "code",
      "source": [
        "reviews_incoherent = reviews_blob.drop(columns=['Hotel_Address', 'Hotel_Name', 'Negative_Review','Total_Review' ,'Positive_Review','Negative_Score','Positive_Score','Neutral_Score'])\n",
        "reviews_incoherent.head(3)\n",
        "\n",
        "reviews_incoherent = reviews_incoherent[((reviews_incoherent['Reviewer_Score']>5) & (reviews_incoherent['blob_score']<-0.1)) |((reviews_incoherent['Reviewer_Score']<5) & (reviews_incoherent['blob_score']>0.1))]\n",
        "reviews_incoherent.size\n",
        "reviews_incoherent.head(3)\n",
        "reviews_incoherent.to_csv(\"incoherent_reviews.csv\")"
      ],
      "metadata": {
        "id": "ig7g5B89zY2_"
      },
      "execution_count": null,
      "outputs": []
    },
    {
      "cell_type": "markdown",
      "source": [
        "# Task 7: with Textblob"
      ],
      "metadata": {
        "id": "HrGF-NCXzTAi"
      }
    },
    {
      "cell_type": "code",
      "source": [
        "reviews_incoherent = reviews_blob.drop(columns=['Hotel_Address', 'Hotel_Name', 'Negative_Review' ,'Positive_Review','Negative_Score','Positive_Score','Neutral_Score'])\n",
        "reviews_incoherent = reviews_incoherent[((reviews_incoherent['Reviewer_Score']>5) & (reviews_incoherent['blob_score']<-0.1)) |((reviews_incoherent['Reviewer_Score']<5) & (reviews_incoherent['blob_score']>0.1))]\n",
        "\n",
        "text = \"\"\n",
        "for _, row in reviews_incoherent.iterrows():\n",
        "  text+=row['Total_Review']\n",
        "wordcloud = WordCloud().generate(text)\n",
        "plt.imshow(wordcloud, interpolation='bilinear')\n",
        "plt.axis(\"off\")"
      ],
      "metadata": {
        "id": "cttTGg-9zdKD"
      },
      "execution_count": null,
      "outputs": []
    },
    {
      "cell_type": "markdown",
      "source": [
        "# Task 8: with Textblob"
      ],
      "metadata": {
        "id": "5Dp9fkNyzUfd"
      }
    },
    {
      "cell_type": "code",
      "source": [
        "from empath import Empath\n",
        "lexicon = Empath()\n",
        "\n",
        "reviews_empath = reviews_incoherent\n",
        "reviews_empath.head(3)\n",
        "\n",
        "def output_empath_short(text : str):\n",
        "  short_categories = {}\n",
        "  categories = lexicon.analyze(text,normalize = True)\n",
        "  for cat in categories : \n",
        "    if categories[cat] >0:\n",
        "      short_categories[cat] = categories[cat]\n",
        "  return short_categories\n",
        "\n",
        "def output_empath(text : str):\n",
        "  return lexicon.analyze(text,normalize = True)\n",
        "\n",
        "def summarize_empath(dict_list : list):\n",
        "  dict1 = {}\n",
        "  s=0\n",
        "  for cat in dict_list[0]:\n",
        "    s=0\n",
        "    for categories in dict_list:\n",
        "        s+= categories[cat]\n",
        "    dict1[cat] = s\n",
        "  return dict1\n",
        "\n",
        "output_empath_short(\"event at the office\")\n",
        "reviews_empath[\"Empath\"] = reviews_empath[\"Total_Review\"].map(output_empath)\n",
        "\n",
        "summary = summarize_empath(reviews_empath[\"Empath\"].tolist())\n",
        "\n",
        "sorted(summary.items(), key=lambda item: item[1],reverse = True)[:10]"
      ],
      "metadata": {
        "id": "7axlTzEGaDEu"
      },
      "execution_count": null,
      "outputs": []
    },
    {
      "cell_type": "markdown",
      "source": [
        "# Task 9: with Textblob"
      ],
      "metadata": {
        "id": "v1v5P2Dwzw9i"
      }
    },
    {
      "cell_type": "code",
      "source": [
        "stops = set(stopwords.words('english'))\n",
        "stemmer = PorterStemmer()\n",
        "\n",
        "def token_cleaner(tokens : list) -> list:\n",
        "  #tokens must be a list of lowercase tokenized words\n",
        "  tokens_cleaned = []\n",
        "\n",
        "  for token in tokens:\n",
        "    if token not in stops:\n",
        "      tokens_cleaned.append(token)\n",
        "  \n",
        "\n",
        "  for i,word in enumerate(tokens_cleaned):\n",
        "    tokens_cleaned[i] = stemmer.stem(word)\n",
        "  return tokens_cleaned\n",
        "\n",
        "corpus = []\n",
        "for _, row in reviews_blob.iterrows():\n",
        "  review = row['Total_Review']\n",
        "  review = review.lower()\n",
        "  review = word_tokenize(review)\n",
        "  review = token_cleaner(review)\n",
        "  corpus.append(review)\n",
        "\n",
        "corpus_dict = Dictionary(corpus)\n",
        "corpus = [corpus_dict.doc2bow(text) for text in corpus]\n",
        "\n",
        "lda = LdaModel(corpus,id2word = corpus_dict,num_topics=10)\n",
        "\n",
        "topics = lda.print_topics(num_words=10)\n",
        "for topic in topics:\n",
        "    print(topic)"
      ],
      "metadata": {
        "id": "mAlJBIDJz9NS"
      },
      "execution_count": null,
      "outputs": []
    }
  ]
}